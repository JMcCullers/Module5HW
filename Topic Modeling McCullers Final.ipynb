{
 "cells": [
  {
   "cell_type": "markdown",
   "metadata": {},
   "source": [
    "# ADS 509 Assignment 5.1: Topic Modeling\n",
    "\n",
    "This notebook holds Assignment 5.1 for Module 5 in ADS 509, Applied Text Mining. Work through this notebook, writing code and answering questions where required. \n",
    "\n",
    "In this assignment you will work with a categorical corpus that accompanies `nltk`. You will build the three types of topic models described in Chapter 8 of _Blueprints for Text Analytics using Python_: NMF, LSA, and LDA. You will compare these models to the true categories. \n"
   ]
  },
  {
   "cell_type": "markdown",
   "metadata": {},
   "source": [
    "## General Assignment Instructions\n",
    "\n",
    "These instructions are included in every assignment, to remind you of the coding standards for the class. Feel free to delete this cell after reading it. \n",
    "\n",
    "One sign of mature code is conforming to a style guide. We recommend the [Google Python Style Guide](https://google.github.io/styleguide/pyguide.html). If you use a different style guide, please include a cell with a link. \n",
    "\n",
    "Your code should be relatively easy-to-read, sensibly commented, and clean. Writing code is a messy process, so please be sure to edit your final submission. Remove any cells that are not needed or parts of cells that contain unnecessary code. Remove inessential `import` statements and make sure that all such statements are moved into the designated cell. \n",
    "\n",
    "Make use of non-code cells for written commentary. These cells should be grammatical and clearly written. In some of these cells you will have questions to answer. The questions will be marked by a \"Q:\" and will have a corresponding \"A:\" spot for you. *Make sure to answer every question marked with a `Q:` for full credit.* \n"
   ]
  },
  {
   "cell_type": "code",
   "execution_count": 5,
   "metadata": {},
   "outputs": [
    {
     "name": "stderr",
     "output_type": "stream",
     "text": [
      "C:\\Users\\jackt\\anaconda3\\lib\\site-packages\\ipykernel\\ipkernel.py:287: DeprecationWarning: `should_run_async` will not call `transform_cell` automatically in the future. Please pass the result to `transformed_cell` argument and any exception that happen during thetransform in `preprocessing_exc_tuple` in IPython 7.17 and above.\n",
      "  and should_run_async(code)\n"
     ]
    },
    {
     "name": "stdout",
     "output_type": "stream",
     "text": [
      "Collecting spacy\n",
      "  Downloading spacy-3.3.1-cp38-cp38-win_amd64.whl (12.1 MB)\n",
      "Collecting murmurhash<1.1.0,>=0.28.0\n",
      "  Downloading murmurhash-1.0.7-cp38-cp38-win_amd64.whl (18 kB)\n",
      "Collecting preshed<3.1.0,>=3.0.2\n",
      "  Downloading preshed-3.0.6-cp38-cp38-win_amd64.whl (113 kB)\n",
      "Collecting pathy>=0.3.5\n",
      "  Downloading pathy-0.6.1-py3-none-any.whl (42 kB)\n",
      "Collecting catalogue<2.1.0,>=2.0.6\n",
      "  Downloading catalogue-2.0.7-py3-none-any.whl (17 kB)\n",
      "Requirement already satisfied: setuptools in c:\\users\\jackt\\anaconda3\\lib\\site-packages (from spacy) (50.3.1.post20201107)\n",
      "Collecting blis<0.8.0,>=0.4.0\n",
      "  Downloading blis-0.7.7-cp38-cp38-win_amd64.whl (6.6 MB)\n",
      "Collecting srsly<3.0.0,>=2.4.3\n",
      "  Downloading srsly-2.4.3-cp38-cp38-win_amd64.whl (448 kB)\n",
      "Requirement already satisfied: numpy>=1.15.0 in c:\\users\\jackt\\anaconda3\\lib\\site-packages (from spacy) (1.22.4)\n",
      "Collecting cymem<2.1.0,>=2.0.2\n",
      "  Downloading cymem-2.0.6-cp38-cp38-win_amd64.whl (36 kB)\n",
      "Requirement already satisfied: requests<3.0.0,>=2.13.0 in c:\\users\\jackt\\anaconda3\\lib\\site-packages (from spacy) (2.27.1)\n",
      "Requirement already satisfied: tqdm<5.0.0,>=4.38.0 in c:\\users\\jackt\\anaconda3\\lib\\site-packages (from spacy) (4.50.2)\n",
      "Collecting pydantic!=1.8,!=1.8.1,<1.9.0,>=1.7.4\n",
      "  Downloading pydantic-1.8.2-cp38-cp38-win_amd64.whl (2.0 MB)\n",
      "Collecting typer<0.5.0,>=0.3.0\n",
      "  Downloading typer-0.4.1-py3-none-any.whl (27 kB)\n",
      "Collecting spacy-legacy<3.1.0,>=3.0.9\n",
      "  Downloading spacy_legacy-3.0.9-py2.py3-none-any.whl (20 kB)\n",
      "Collecting langcodes<4.0.0,>=3.2.0\n",
      "  Downloading langcodes-3.3.0-py3-none-any.whl (181 kB)\n",
      "Requirement already satisfied: packaging>=20.0 in c:\\users\\jackt\\anaconda3\\lib\\site-packages (from spacy) (20.4)\n",
      "Collecting thinc<8.1.0,>=8.0.14\n",
      "  Downloading thinc-8.0.17-cp38-cp38-win_amd64.whl (1.1 MB)\n",
      "Collecting spacy-loggers<2.0.0,>=1.0.0\n",
      "  Downloading spacy_loggers-1.0.2-py3-none-any.whl (7.2 kB)\n",
      "Collecting wasabi<1.1.0,>=0.9.1\n",
      "  Downloading wasabi-0.9.1-py3-none-any.whl (26 kB)\n",
      "Requirement already satisfied: jinja2 in c:\\users\\jackt\\anaconda3\\lib\\site-packages (from spacy) (2.11.2)\n",
      "Requirement already satisfied: smart-open<6.0.0,>=5.0.0 in c:\\users\\jackt\\anaconda3\\lib\\site-packages (from pathy>=0.3.5->spacy) (5.1.0)\n",
      "Requirement already satisfied: certifi>=2017.4.17 in c:\\users\\jackt\\anaconda3\\lib\\site-packages (from requests<3.0.0,>=2.13.0->spacy) (2020.6.20)\n",
      "Requirement already satisfied: charset-normalizer~=2.0.0; python_version >= \"3\" in c:\\users\\jackt\\anaconda3\\lib\\site-packages (from requests<3.0.0,>=2.13.0->spacy) (2.0.12)\n",
      "Requirement already satisfied: idna<4,>=2.5; python_version >= \"3\" in c:\\users\\jackt\\anaconda3\\lib\\site-packages (from requests<3.0.0,>=2.13.0->spacy) (2.10)\n",
      "Requirement already satisfied: urllib3<1.27,>=1.21.1 in c:\\users\\jackt\\anaconda3\\lib\\site-packages (from requests<3.0.0,>=2.13.0->spacy) (1.25.11)\n",
      "Requirement already satisfied: typing-extensions>=3.7.4.3 in c:\\users\\jackt\\anaconda3\\lib\\site-packages (from pydantic!=1.8,!=1.8.1,<1.9.0,>=1.7.4->spacy) (3.7.4.3)\n",
      "Requirement already satisfied: click<9.0.0,>=7.1.1 in c:\\users\\jackt\\anaconda3\\lib\\site-packages (from typer<0.5.0,>=0.3.0->spacy) (7.1.2)\n",
      "Requirement already satisfied: six in c:\\users\\jackt\\anaconda3\\lib\\site-packages (from packaging>=20.0->spacy) (1.15.0)\n",
      "Requirement already satisfied: pyparsing>=2.0.2 in c:\\users\\jackt\\anaconda3\\lib\\site-packages (from packaging>=20.0->spacy) (2.4.7)\n",
      "Requirement already satisfied: MarkupSafe>=0.23 in c:\\users\\jackt\\anaconda3\\lib\\site-packages (from jinja2->spacy) (1.1.1)\n",
      "Installing collected packages: murmurhash, cymem, preshed, typer, pathy, catalogue, blis, srsly, pydantic, spacy-legacy, langcodes, wasabi, thinc, spacy-loggers, spacy\n",
      "Successfully installed blis-0.7.7 catalogue-2.0.7 cymem-2.0.6 langcodes-3.3.0 murmurhash-1.0.7 pathy-0.6.1 preshed-3.0.6 pydantic-1.8.2 spacy-3.3.1 spacy-legacy-3.0.9 spacy-loggers-1.0.2 srsly-2.4.3 thinc-8.0.17 typer-0.4.1 wasabi-0.9.1\n",
      "Note: you may need to restart the kernel to use updated packages.\n"
     ]
    }
   ],
   "source": [
    "pip install spacy"
   ]
  },
  {
   "cell_type": "code",
   "execution_count": 1,
   "metadata": {},
   "outputs": [
    {
     "name": "stderr",
     "output_type": "stream",
     "text": [
      "C:\\Users\\jackt\\anaconda3\\lib\\site-packages\\sklearn\\decomposition\\_lda.py:28: DeprecationWarning: `np.float` is a deprecated alias for the builtin `float`. To silence this warning, use `float` by itself. Doing this will not modify any behavior and is safe. If you specifically wanted the numpy scalar type, use `np.float64` here.\n",
      "Deprecated in NumPy 1.20; for more details and guidance: https://numpy.org/devdocs/release/1.20.0-notes.html#deprecations\n",
      "  EPS = np.finfo(np.float).eps\n",
      "C:\\Users\\jackt\\anaconda3\\lib\\site-packages\\h5py\\__init__.py:46: DeprecationWarning: `np.typeDict` is a deprecated alias for `np.sctypeDict`.\n",
      "  from ._conv import register_converters as _register_converters\n"
     ]
    },
    {
     "ename": "OSError",
     "evalue": "[E050] Can't find model 'en_core_web_sm'. It doesn't seem to be a Python package or a valid path to a data directory.",
     "output_type": "error",
     "traceback": [
      "\u001b[1;31m---------------------------------------------------------------------------\u001b[0m",
      "\u001b[1;31mOSError\u001b[0m                                   Traceback (most recent call last)",
      "\u001b[1;32m<ipython-input-1-e46aea8dccfe>\u001b[0m in \u001b[0;36m<module>\u001b[1;34m\u001b[0m\n\u001b[0;32m     26\u001b[0m \u001b[1;32mfrom\u001b[0m \u001b[0mcollections\u001b[0m \u001b[1;32mimport\u001b[0m \u001b[0mCounter\u001b[0m\u001b[1;33m,\u001b[0m \u001b[0mdefaultdict\u001b[0m\u001b[1;33m\u001b[0m\u001b[1;33m\u001b[0m\u001b[0m\n\u001b[0;32m     27\u001b[0m \u001b[1;33m\u001b[0m\u001b[0m\n\u001b[1;32m---> 28\u001b[1;33m \u001b[0mnlp\u001b[0m \u001b[1;33m=\u001b[0m \u001b[0mspacy\u001b[0m\u001b[1;33m.\u001b[0m\u001b[0mload\u001b[0m\u001b[1;33m(\u001b[0m\u001b[1;34m'en_core_web_sm'\u001b[0m\u001b[1;33m)\u001b[0m\u001b[1;33m\u001b[0m\u001b[1;33m\u001b[0m\u001b[0m\n\u001b[0m\u001b[0;32m     29\u001b[0m \u001b[1;33m\u001b[0m\u001b[0m\n",
      "\u001b[1;32m~\\anaconda3\\lib\\site-packages\\spacy\\__init__.py\u001b[0m in \u001b[0;36mload\u001b[1;34m(name, vocab, disable, exclude, config)\u001b[0m\n\u001b[0;32m     49\u001b[0m     \u001b[0mRETURNS\u001b[0m \u001b[1;33m(\u001b[0m\u001b[0mLanguage\u001b[0m\u001b[1;33m)\u001b[0m\u001b[1;33m:\u001b[0m \u001b[0mThe\u001b[0m \u001b[0mloaded\u001b[0m \u001b[0mnlp\u001b[0m \u001b[0mobject\u001b[0m\u001b[1;33m.\u001b[0m\u001b[1;33m\u001b[0m\u001b[1;33m\u001b[0m\u001b[0m\n\u001b[0;32m     50\u001b[0m     \"\"\"\n\u001b[1;32m---> 51\u001b[1;33m     return util.load_model(\n\u001b[0m\u001b[0;32m     52\u001b[0m         \u001b[0mname\u001b[0m\u001b[1;33m,\u001b[0m \u001b[0mvocab\u001b[0m\u001b[1;33m=\u001b[0m\u001b[0mvocab\u001b[0m\u001b[1;33m,\u001b[0m \u001b[0mdisable\u001b[0m\u001b[1;33m=\u001b[0m\u001b[0mdisable\u001b[0m\u001b[1;33m,\u001b[0m \u001b[0mexclude\u001b[0m\u001b[1;33m=\u001b[0m\u001b[0mexclude\u001b[0m\u001b[1;33m,\u001b[0m \u001b[0mconfig\u001b[0m\u001b[1;33m=\u001b[0m\u001b[0mconfig\u001b[0m\u001b[1;33m\u001b[0m\u001b[1;33m\u001b[0m\u001b[0m\n\u001b[0;32m     53\u001b[0m     )\n",
      "\u001b[1;32m~\\anaconda3\\lib\\site-packages\\spacy\\util.py\u001b[0m in \u001b[0;36mload_model\u001b[1;34m(name, vocab, disable, exclude, config)\u001b[0m\n\u001b[0;32m    425\u001b[0m     \u001b[1;32mif\u001b[0m \u001b[0mname\u001b[0m \u001b[1;32min\u001b[0m \u001b[0mOLD_MODEL_SHORTCUTS\u001b[0m\u001b[1;33m:\u001b[0m\u001b[1;33m\u001b[0m\u001b[1;33m\u001b[0m\u001b[0m\n\u001b[0;32m    426\u001b[0m         \u001b[1;32mraise\u001b[0m \u001b[0mIOError\u001b[0m\u001b[1;33m(\u001b[0m\u001b[0mErrors\u001b[0m\u001b[1;33m.\u001b[0m\u001b[0mE941\u001b[0m\u001b[1;33m.\u001b[0m\u001b[0mformat\u001b[0m\u001b[1;33m(\u001b[0m\u001b[0mname\u001b[0m\u001b[1;33m=\u001b[0m\u001b[0mname\u001b[0m\u001b[1;33m,\u001b[0m \u001b[0mfull\u001b[0m\u001b[1;33m=\u001b[0m\u001b[0mOLD_MODEL_SHORTCUTS\u001b[0m\u001b[1;33m[\u001b[0m\u001b[0mname\u001b[0m\u001b[1;33m]\u001b[0m\u001b[1;33m)\u001b[0m\u001b[1;33m)\u001b[0m  \u001b[1;31m# type: ignore[index]\u001b[0m\u001b[1;33m\u001b[0m\u001b[1;33m\u001b[0m\u001b[0m\n\u001b[1;32m--> 427\u001b[1;33m     \u001b[1;32mraise\u001b[0m \u001b[0mIOError\u001b[0m\u001b[1;33m(\u001b[0m\u001b[0mErrors\u001b[0m\u001b[1;33m.\u001b[0m\u001b[0mE050\u001b[0m\u001b[1;33m.\u001b[0m\u001b[0mformat\u001b[0m\u001b[1;33m(\u001b[0m\u001b[0mname\u001b[0m\u001b[1;33m=\u001b[0m\u001b[0mname\u001b[0m\u001b[1;33m)\u001b[0m\u001b[1;33m)\u001b[0m\u001b[1;33m\u001b[0m\u001b[1;33m\u001b[0m\u001b[0m\n\u001b[0m\u001b[0;32m    428\u001b[0m \u001b[1;33m\u001b[0m\u001b[0m\n\u001b[0;32m    429\u001b[0m \u001b[1;33m\u001b[0m\u001b[0m\n",
      "\u001b[1;31mOSError\u001b[0m: [E050] Can't find model 'en_core_web_sm'. It doesn't seem to be a Python package or a valid path to a data directory."
     ]
    }
   ],
   "source": [
    "# These libraries may be useful to you\n",
    "\n",
    "from nltk.corpus import brown\n",
    "\n",
    "import numpy as np\n",
    "import pandas as pd\n",
    "from tqdm.auto import tqdm\n",
    "\n",
    "#import gensim\n",
    "#import gensim.corpora as corpora\n",
    "#from gensim.utils import simple_preprocess\n",
    "#from gensim.models import CoherenceModel,LdaMulticore, Phrases \n",
    "#from gensim.models.phrases import Phraser \n",
    "#from gensim.corpora import Dictionary\n",
    "\n",
    "import pyLDAvis\n",
    "import pyLDAvis.sklearn\n",
    "import pyLDAvis.gensim_models\n",
    "\n",
    "import spacy\n",
    "from sklearn.feature_extraction.text import TfidfVectorizer, CountVectorizer\n",
    "from sklearn.decomposition import NMF, TruncatedSVD, LatentDirichletAllocation\n",
    "\n",
    "from spacy.lang.en.stop_words import STOP_WORDS as stopwords\n",
    "\n",
    "from collections import Counter, defaultdict\n",
    "\n",
    "nlp = spacy.load('en_core_web_sm')\n",
    "\n"
   ]
  },
  {
   "cell_type": "code",
   "execution_count": 2,
   "metadata": {},
   "outputs": [
    {
     "name": "stderr",
     "output_type": "stream",
     "text": [
      "C:\\Users\\jackt\\anaconda3\\lib\\site-packages\\ipykernel\\ipkernel.py:287: DeprecationWarning: `should_run_async` will not call `transform_cell` automatically in the future. Please pass the result to `transformed_cell` argument and any exception that happen during thetransform in `preprocessing_exc_tuple` in IPython 7.17 and above.\n",
      "  and should_run_async(code)\n"
     ]
    }
   ],
   "source": [
    "# add any additional libaries you need here\n",
    "\n",
    "import matplotlib.pyplot as plt\n"
   ]
  },
  {
   "cell_type": "code",
   "execution_count": 3,
   "metadata": {},
   "outputs": [
    {
     "name": "stderr",
     "output_type": "stream",
     "text": [
      "C:\\Users\\jackt\\anaconda3\\lib\\site-packages\\ipykernel\\ipkernel.py:287: DeprecationWarning: `should_run_async` will not call `transform_cell` automatically in the future. Please pass the result to `transformed_cell` argument and any exception that happen during thetransform in `preprocessing_exc_tuple` in IPython 7.17 and above.\n",
      "  and should_run_async(code)\n"
     ]
    }
   ],
   "source": [
    "# This function comes from the BTAP repo.\n",
    "\n",
    "def display_topics(model, features, no_top_words=5):\n",
    "    for topic, words in enumerate(model.components_):\n",
    "        total = words.sum()\n",
    "        largest = words.argsort()[::-1] # invert sort order\n",
    "        print(\"\\nTopic %02d\" % topic)\n",
    "        for i in range(0, no_top_words):\n",
    "            print(\"  %s (%2.2f)\" % (features[largest[i]], abs(words[largest[i]]*100.0/total)))"
   ]
  },
  {
   "cell_type": "markdown",
   "metadata": {},
   "source": [
    "## Getting to Know the Brown Corpus\n",
    "\n",
    "Let's spend a bit of time getting to know what's in the Brown corpus, our NLTK example of an \"overlapping\" corpus."
   ]
  },
  {
   "cell_type": "code",
   "execution_count": 4,
   "metadata": {},
   "outputs": [
    {
     "name": "stderr",
     "output_type": "stream",
     "text": [
      "C:\\Users\\jackt\\anaconda3\\lib\\site-packages\\ipykernel\\ipkernel.py:287: DeprecationWarning: `should_run_async` will not call `transform_cell` automatically in the future. Please pass the result to `transformed_cell` argument and any exception that happen during thetransform in `preprocessing_exc_tuple` in IPython 7.17 and above.\n",
      "  and should_run_async(code)\n",
      "[nltk_data] Downloading package brown to\n",
      "[nltk_data]     C:\\Users\\jackt\\AppData\\Roaming\\nltk_data...\n",
      "[nltk_data]   Package brown is already up-to-date!\n"
     ]
    },
    {
     "data": {
      "text/plain": [
       "True"
      ]
     },
     "execution_count": 4,
     "metadata": {},
     "output_type": "execute_result"
    }
   ],
   "source": [
    "import nltk\n",
    "nltk.download('brown')"
   ]
  },
  {
   "cell_type": "code",
   "execution_count": 5,
   "metadata": {},
   "outputs": [
    {
     "name": "stdout",
     "output_type": "stream",
     "text": [
      "For adventure we have 29 articles.\n",
      "For belles_lettres we have 75 articles.\n",
      "For editorial we have 27 articles.\n",
      "For fiction we have 29 articles.\n",
      "For government we have 30 articles.\n",
      "For hobbies we have 36 articles.\n",
      "For humor we have 9 articles.\n",
      "For learned we have 80 articles.\n",
      "For lore we have 48 articles.\n",
      "For mystery we have 24 articles.\n",
      "For news we have 44 articles.\n",
      "For religion we have 17 articles.\n",
      "For reviews we have 17 articles.\n",
      "For romance we have 29 articles.\n",
      "For science_fiction we have 6 articles.\n"
     ]
    },
    {
     "name": "stderr",
     "output_type": "stream",
     "text": [
      "C:\\Users\\jackt\\anaconda3\\lib\\site-packages\\ipykernel\\ipkernel.py:287: DeprecationWarning: `should_run_async` will not call `transform_cell` automatically in the future. Please pass the result to `transformed_cell` argument and any exception that happen during thetransform in `preprocessing_exc_tuple` in IPython 7.17 and above.\n",
      "  and should_run_async(code)\n"
     ]
    }
   ],
   "source": [
    "# categories of articles in Brown corpus\n",
    "for category in brown.categories() :\n",
    "    print(f\"For {category} we have {len(brown.fileids(categories=category))} articles.\")"
   ]
  },
  {
   "cell_type": "markdown",
   "metadata": {},
   "source": [
    "Let's create a dataframe of the articles in of hobbies, editorial, government, news, and romance."
   ]
  },
  {
   "cell_type": "code",
   "execution_count": 6,
   "metadata": {},
   "outputs": [
    {
     "name": "stderr",
     "output_type": "stream",
     "text": [
      "C:\\Users\\jackt\\anaconda3\\lib\\site-packages\\ipykernel\\ipkernel.py:287: DeprecationWarning: `should_run_async` will not call `transform_cell` automatically in the future. Please pass the result to `transformed_cell` argument and any exception that happen during thetransform in `preprocessing_exc_tuple` in IPython 7.17 and above.\n",
      "  and should_run_async(code)\n"
     ]
    },
    {
     "data": {
      "text/plain": [
       "(166, 3)"
      ]
     },
     "execution_count": 6,
     "metadata": {},
     "output_type": "execute_result"
    }
   ],
   "source": [
    "categories = ['editorial','government','news','romance','hobbies'] \n",
    "\n",
    "category_list = []\n",
    "file_ids = []\n",
    "texts = []\n",
    "\n",
    "for category in categories : \n",
    "    for file_id in brown.fileids(categories=category) :\n",
    "        \n",
    "        # build some lists for a dataframe\n",
    "        category_list.append(category)\n",
    "        file_ids.append(file_id)\n",
    "        \n",
    "        text = brown.words(fileids=file_id)\n",
    "        texts.append(\" \".join(text))\n",
    "\n",
    "        \n",
    "        \n",
    "df = pd.DataFrame()\n",
    "df['category'] = category_list\n",
    "df['id'] = file_ids\n",
    "df['text'] = texts \n",
    "\n",
    "df.shape"
   ]
  },
  {
   "cell_type": "code",
   "execution_count": 7,
   "metadata": {},
   "outputs": [
    {
     "name": "stderr",
     "output_type": "stream",
     "text": [
      "C:\\Users\\jackt\\anaconda3\\lib\\site-packages\\ipykernel\\ipkernel.py:287: DeprecationWarning: `should_run_async` will not call `transform_cell` automatically in the future. Please pass the result to `transformed_cell` argument and any exception that happen during thetransform in `preprocessing_exc_tuple` in IPython 7.17 and above.\n",
      "  and should_run_async(code)\n"
     ]
    }
   ],
   "source": [
    "# Let's add some helpful columns on the df\n",
    "df['char_len'] = df['text'].apply(len)\n",
    "df['word_len'] = df['text'].apply(lambda x: len(x.split()))\n"
   ]
  },
  {
   "cell_type": "code",
   "execution_count": 8,
   "metadata": {},
   "outputs": [
    {
     "name": "stderr",
     "output_type": "stream",
     "text": [
      "C:\\Users\\jackt\\anaconda3\\lib\\site-packages\\ipykernel\\ipkernel.py:287: DeprecationWarning: `should_run_async` will not call `transform_cell` automatically in the future. Please pass the result to `transformed_cell` argument and any exception that happen during thetransform in `preprocessing_exc_tuple` in IPython 7.17 and above.\n",
      "  and should_run_async(code)\n"
     ]
    }
   ],
   "source": [
    "import matplotlib.pyplot as plt"
   ]
  },
  {
   "cell_type": "code",
   "execution_count": 9,
   "metadata": {},
   "outputs": [
    {
     "name": "stderr",
     "output_type": "stream",
     "text": [
      "C:\\Users\\jackt\\anaconda3\\lib\\site-packages\\ipykernel\\ipkernel.py:287: DeprecationWarning: `should_run_async` will not call `transform_cell` automatically in the future. Please pass the result to `transformed_cell` argument and any exception that happen during thetransform in `preprocessing_exc_tuple` in IPython 7.17 and above.\n",
      "  and should_run_async(code)\n"
     ]
    },
    {
     "data": {
      "text/plain": [
       "<AxesSubplot:xlabel='category'>"
      ]
     },
     "execution_count": 9,
     "metadata": {},
     "output_type": "execute_result"
    },
    {
     "data": {
      "image/png": "[encoded data removed]",
      "text/plain": [
       "<Figure size 720x432 with 1 Axes>"
      ]
     },
     "metadata": {
      "needs_background": "light"
     },
     "output_type": "display_data"
    }
   ],
   "source": [
    "%matplotlib inline\n",
    "df.groupby('category').agg({'word_len': 'mean'}).plot.bar(figsize=(10,6))"
   ]
  },
  {
   "cell_type": "markdown",
   "metadata": {},
   "source": [
    "Now do our TF-IDF and Count vectorizations."
   ]
  },
  {
   "cell_type": "code",
   "execution_count": 10,
   "metadata": {},
   "outputs": [
    {
     "name": "stderr",
     "output_type": "stream",
     "text": [
      "C:\\Users\\jackt\\anaconda3\\lib\\site-packages\\ipykernel\\ipkernel.py:287: DeprecationWarning: `should_run_async` will not call `transform_cell` automatically in the future. Please pass the result to `transformed_cell` argument and any exception that happen during thetransform in `preprocessing_exc_tuple` in IPython 7.17 and above.\n",
      "  and should_run_async(code)\n",
      "C:\\Users\\jackt\\anaconda3\\lib\\site-packages\\sklearn\\feature_extraction\\text.py:383: UserWarning: Your stop_words may be inconsistent with your preprocessing. Tokenizing the stop words generated tokens ['ll', 've'] not in stop_words.\n",
      "  warnings.warn('Your stop_words may be inconsistent with '\n"
     ]
    },
    {
     "data": {
      "text/plain": [
       "(166, 4941)"
      ]
     },
     "execution_count": 10,
     "metadata": {},
     "output_type": "execute_result"
    }
   ],
   "source": [
    "count_text_vectorizer = CountVectorizer(stop_words=stopwords, min_df=5, max_df=0.7)\n",
    "count_text_vectors = count_text_vectorizer.fit_transform(df[\"text\"])\n",
    "count_text_vectors.shape"
   ]
  },
  {
   "cell_type": "code",
   "execution_count": 11,
   "metadata": {},
   "outputs": [
    {
     "name": "stderr",
     "output_type": "stream",
     "text": [
      "C:\\Users\\jackt\\anaconda3\\lib\\site-packages\\ipykernel\\ipkernel.py:287: DeprecationWarning: `should_run_async` will not call `transform_cell` automatically in the future. Please pass the result to `transformed_cell` argument and any exception that happen during thetransform in `preprocessing_exc_tuple` in IPython 7.17 and above.\n",
      "  and should_run_async(code)\n"
     ]
    },
    {
     "data": {
      "text/plain": [
       "(166, 4941)"
      ]
     },
     "execution_count": 11,
     "metadata": {},
     "output_type": "execute_result"
    }
   ],
   "source": [
    "tfidf_text_vectorizer = TfidfVectorizer(stop_words=stopwords, min_df=5, max_df=0.7)\n",
    "tfidf_text_vectors = tfidf_text_vectorizer.fit_transform(df['text'])\n",
    "tfidf_text_vectors.shape"
   ]
  },
  {
   "cell_type": "markdown",
   "metadata": {},
   "source": [
    "Q: What do the two data frames `count_text_vectors` and `tfidf_text_vectors` hold? \n",
    "\n",
    "A: It looks like both of the dataframes contain the same dimensions (166, 4941)."
   ]
  },
  {
   "cell_type": "markdown",
   "metadata": {},
   "source": [
    "## Fitting a Non-Negative Matrix Factorization Model\n",
    "\n",
    "In this section the code to fit a five-topic NMF model has already been written. This code comes directly from the [BTAP repo](https://github.com/blueprints-for-text-analytics-python/blueprints-text), which will help you tremendously in the coming sections. "
   ]
  },
  {
   "cell_type": "code",
   "execution_count": 12,
   "metadata": {},
   "outputs": [
    {
     "name": "stderr",
     "output_type": "stream",
     "text": [
      "C:\\Users\\jackt\\anaconda3\\lib\\site-packages\\ipykernel\\ipkernel.py:287: DeprecationWarning: `should_run_async` will not call `transform_cell` automatically in the future. Please pass the result to `transformed_cell` argument and any exception that happen during thetransform in `preprocessing_exc_tuple` in IPython 7.17 and above.\n",
      "  and should_run_async(code)\n"
     ]
    }
   ],
   "source": [
    "nmf_text_model = NMF(n_components=5, random_state=314)\n",
    "W_text_matrix = nmf_text_model.fit_transform(tfidf_text_vectors)\n",
    "H_text_matrix = nmf_text_model.components_"
   ]
  },
  {
   "cell_type": "code",
   "execution_count": 13,
   "metadata": {},
   "outputs": [
    {
     "name": "stdout",
     "output_type": "stream",
     "text": [
      "\n",
      "Topic 00\n",
      "  mr (0.51)\n",
      "  president (0.45)\n",
      "  kennedy (0.43)\n",
      "  united (0.42)\n",
      "  khrushchev (0.40)\n",
      "\n",
      "Topic 01\n",
      "  said (0.88)\n",
      "  didn (0.46)\n",
      "  ll (0.45)\n",
      "  thought (0.42)\n",
      "  man (0.37)\n",
      "\n",
      "Topic 02\n",
      "  state (0.40)\n",
      "  development (0.36)\n",
      "  tax (0.33)\n",
      "  sales (0.30)\n",
      "  program (0.25)\n",
      "\n",
      "Topic 03\n",
      "  mrs (2.61)\n",
      "  mr (0.78)\n",
      "  said (0.64)\n",
      "  miss (0.52)\n",
      "  car (0.51)\n",
      "\n",
      "Topic 04\n",
      "  game (1.01)\n",
      "  league (0.74)\n",
      "  ball (0.72)\n",
      "  baseball (0.71)\n",
      "  team (0.66)\n"
     ]
    },
    {
     "name": "stderr",
     "output_type": "stream",
     "text": [
      "C:\\Users\\jackt\\anaconda3\\lib\\site-packages\\ipykernel\\ipkernel.py:287: DeprecationWarning: `should_run_async` will not call `transform_cell` automatically in the future. Please pass the result to `transformed_cell` argument and any exception that happen during thetransform in `preprocessing_exc_tuple` in IPython 7.17 and above.\n",
      "  and should_run_async(code)\n"
     ]
    }
   ],
   "source": [
    "display_topics(nmf_text_model, tfidf_text_vectorizer.get_feature_names())"
   ]
  },
  {
   "cell_type": "markdown",
   "metadata": {},
   "source": [
    "Now some work for you to do. Compare the NMF factorization to the original categories from the Brown Corpus."
   ]
  },
  {
   "cell_type": "code",
   "execution_count": 14,
   "metadata": {},
   "outputs": [
    {
     "name": "stderr",
     "output_type": "stream",
     "text": [
      "C:\\Users\\jackt\\anaconda3\\lib\\site-packages\\ipykernel\\ipkernel.py:287: DeprecationWarning: `should_run_async` will not call `transform_cell` automatically in the future. Please pass the result to `transformed_cell` argument and any exception that happen during thetransform in `preprocessing_exc_tuple` in IPython 7.17 and above.\n",
      "  and should_run_async(code)\n"
     ]
    },
    {
     "data": {
      "text/plain": [
       "array([18.17705433, 25.86545606, 29.54609649, 14.40020472, 12.0111884 ])"
      ]
     },
     "execution_count": 14,
     "metadata": {},
     "output_type": "execute_result"
    }
   ],
   "source": [
    "W_text_matrix.sum(axis=0)/W_text_matrix.sum()*100.0"
   ]
  },
  {
   "cell_type": "code",
   "execution_count": 15,
   "metadata": {},
   "outputs": [
    {
     "name": "stderr",
     "output_type": "stream",
     "text": [
      "C:\\Users\\jackt\\anaconda3\\lib\\site-packages\\ipykernel\\ipkernel.py:287: DeprecationWarning: `should_run_async` will not call `transform_cell` automatically in the future. Please pass the result to `transformed_cell` argument and any exception that happen during thetransform in `preprocessing_exc_tuple` in IPython 7.17 and above.\n",
      "  and should_run_async(code)\n"
     ]
    },
    {
     "data": {
      "text/plain": [
       "NMF_topics  category  \n",
       "0           editorial     62.500000\n",
       "            government    12.500000\n",
       "            news          25.000000\n",
       "1           editorial      9.756098\n",
       "            hobbies       19.512195\n",
       "            romance       70.731707\n",
       "2           editorial      3.076923\n",
       "            government    40.000000\n",
       "            hobbies       40.000000\n",
       "            news          16.923077\n",
       "3           hobbies        5.555556\n",
       "            news          94.444444\n",
       "4           editorial     10.000000\n",
       "            hobbies       10.000000\n",
       "            news          80.000000\n",
       "Name: id, dtype: float64"
      ]
     },
     "execution_count": 15,
     "metadata": {},
     "output_type": "execute_result"
    }
   ],
   "source": [
    "df['NMF_topics'] = pd.DataFrame(W_text_matrix).idxmax(axis=1)\n",
    "grp_df = df.groupby(['NMF_topics','category'])['id'].count()\n",
    "grp_df.groupby(level=0).apply(lambda x:100 * x / float(x.sum()))"
   ]
  },
  {
   "cell_type": "code",
   "execution_count": 16,
   "metadata": {},
   "outputs": [
    {
     "name": "stderr",
     "output_type": "stream",
     "text": [
      "C:\\Users\\jackt\\anaconda3\\lib\\site-packages\\ipykernel\\ipkernel.py:287: DeprecationWarning: `should_run_async` will not call `transform_cell` automatically in the future. Please pass the result to `transformed_cell` argument and any exception that happen during thetransform in `preprocessing_exc_tuple` in IPython 7.17 and above.\n",
      "  and should_run_async(code)\n"
     ]
    },
    {
     "data": {
      "text/plain": [
       "<AxesSubplot:xlabel='NMF_topics,category'>"
      ]
     },
     "execution_count": 16,
     "metadata": {},
     "output_type": "execute_result"
    },
    {
     "data": {
      "image/png": "[encoded data removed]",
      "text/plain": [
       "<Figure size 720x432 with 1 Axes>"
      ]
     },
     "metadata": {
      "needs_background": "light"
     },
     "output_type": "display_data"
    }
   ],
   "source": [
    "# Your code here\n",
    "\n",
    "grp_df.groupby(level=0).apply(lambda x:100 * x / float(x.sum())).plot.bar(figsize=(10,6))\n",
    "\n",
    "# Section Complete"
   ]
  },
  {
   "cell_type": "markdown",
   "metadata": {},
   "source": [
    "Q: How does your five-topic NMF model compare to the original Brown categories? \n",
    "\n",
    "A: The NMF model is able to clearly separate and map 4 out of 5 of the original topics (topic00 - editorial, topic01 - romance, topic02 - government, topic03 - news), but it doesn't have clear mapping ability between topic04 and hobbies. The NMF model results can be seen above in the NMF topics / category graph."
   ]
  },
  {
   "cell_type": "markdown",
   "metadata": {},
   "source": [
    "## Fitting an LSA Model\n",
    "\n",
    "In this section, follow the example from the repository and fit an LSA model (called a \"TruncatedSVD\" in `sklearn`). Again fit a five-topic model and compare it to the actual categories in the Brown corpus. Use the TF-IDF vectors for your fit, as above. "
   ]
  },
  {
   "cell_type": "code",
   "execution_count": 17,
   "metadata": {},
   "outputs": [
    {
     "name": "stderr",
     "output_type": "stream",
     "text": [
      "C:\\Users\\jackt\\anaconda3\\lib\\site-packages\\ipykernel\\ipkernel.py:287: DeprecationWarning: `should_run_async` will not call `transform_cell` automatically in the future. Please pass the result to `transformed_cell` argument and any exception that happen during thetransform in `preprocessing_exc_tuple` in IPython 7.17 and above.\n",
      "  and should_run_async(code)\n"
     ]
    }
   ],
   "source": [
    "# Your code here\n",
    "\n",
    "svd_para_model = TruncatedSVD(n_components = 5, random_state=42)\n",
    "W_svd_para_matrix = svd_para_model.fit_transform(tfidf_text_vectors)\n",
    "H_svd_para_matrix = svd_para_model.components_\n",
    "\n",
    "# Section Complete"
   ]
  },
  {
   "cell_type": "code",
   "execution_count": 18,
   "metadata": {},
   "outputs": [
    {
     "name": "stderr",
     "output_type": "stream",
     "text": [
      "C:\\Users\\jackt\\anaconda3\\lib\\site-packages\\ipykernel\\ipkernel.py:287: DeprecationWarning: `should_run_async` will not call `transform_cell` automatically in the future. Please pass the result to `transformed_cell` argument and any exception that happen during thetransform in `preprocessing_exc_tuple` in IPython 7.17 and above.\n",
      "  and should_run_async(code)\n"
     ]
    },
    {
     "data": {
      "text/plain": [
       "array([3.70145447, 2.25514643, 1.69735202, 1.66198175, 1.55995291])"
      ]
     },
     "execution_count": 18,
     "metadata": {},
     "output_type": "execute_result"
    }
   ],
   "source": [
    "svd_para_model.singular_values_"
   ]
  },
  {
   "cell_type": "code",
   "execution_count": 19,
   "metadata": {},
   "outputs": [
    {
     "name": "stderr",
     "output_type": "stream",
     "text": [
      "C:\\Users\\jackt\\anaconda3\\lib\\site-packages\\ipykernel\\ipkernel.py:287: DeprecationWarning: `should_run_async` will not call `transform_cell` automatically in the future. Please pass the result to `transformed_cell` argument and any exception that happen during thetransform in `preprocessing_exc_tuple` in IPython 7.17 and above.\n",
      "  and should_run_async(code)\n"
     ]
    },
    {
     "data": {
      "text/plain": [
       "LSA_topics  category  \n",
       "0           editorial      18.243243\n",
       "            government     20.270270\n",
       "            hobbies        24.324324\n",
       "            news           22.972973\n",
       "            romance        14.189189\n",
       "1           romance       100.000000\n",
       "3           news          100.000000\n",
       "4           news          100.000000\n",
       "Name: id, dtype: float64"
      ]
     },
     "execution_count": 19,
     "metadata": {},
     "output_type": "execute_result"
    }
   ],
   "source": [
    "df['LSA_topics'] = pd.DataFrame(W_svd_para_matrix).idxmax(axis=1)\n",
    "grp_df = df.groupby(['LSA_topics','category'])['id'].count()\n",
    "grp_df.groupby(level=0).apply(lambda x:100 * x / float(x.sum()))"
   ]
  },
  {
   "cell_type": "markdown",
   "metadata": {},
   "source": [
    "Q: How does your five-topic LSA model compare to the original Brown categories? \n",
    "\n",
    "A: The LSA model is able to identify the Romance category (topic 1) which aligns with our output of the NMF model. As you'll see in the displayed topics below. "
   ]
  },
  {
   "cell_type": "code",
   "execution_count": 20,
   "metadata": {},
   "outputs": [
    {
     "name": "stdout",
     "output_type": "stream",
     "text": [
      "\n",
      "Topic 00\n",
      "  said (0.44)\n",
      "  mr (0.25)\n",
      "  mrs (0.22)\n",
      "  state (0.20)\n",
      "  man (0.17)\n",
      "\n",
      "Topic 01\n",
      "  said (3.89)\n",
      "  ll (2.73)\n",
      "  didn (2.63)\n",
      "  thought (2.20)\n",
      "  got (1.97)\n",
      "\n",
      "Topic 02\n",
      "  mrs (3.14)\n",
      "  mr (1.73)\n",
      "  said (1.05)\n",
      "  kennedy (0.81)\n",
      "  president (0.77)\n",
      "\n",
      "Topic 03\n",
      "  mrs (30.38)\n",
      "  club (6.70)\n",
      "  game (6.40)\n",
      "  jr (5.81)\n",
      "  dallas (5.50)\n",
      "\n",
      "Topic 04\n",
      "  game (4.33)\n",
      "  league (3.09)\n",
      "  baseball (3.06)\n",
      "  ball (2.94)\n",
      "  team (2.81)\n"
     ]
    },
    {
     "name": "stderr",
     "output_type": "stream",
     "text": [
      "C:\\Users\\jackt\\anaconda3\\lib\\site-packages\\ipykernel\\ipkernel.py:287: DeprecationWarning: `should_run_async` will not call `transform_cell` automatically in the future. Please pass the result to `transformed_cell` argument and any exception that happen during thetransform in `preprocessing_exc_tuple` in IPython 7.17 and above.\n",
      "  and should_run_async(code)\n"
     ]
    }
   ],
   "source": [
    "# call display_topics on your model\n",
    "\n",
    "display_topics(svd_para_model, tfidf_text_vectorizer.get_feature_names())\n",
    "\n",
    "# Section Complete"
   ]
  },
  {
   "cell_type": "markdown",
   "metadata": {},
   "source": [
    "Q: What is your interpretation of the display topics output? \n",
    "\n",
    "A: It is interesting to look at the displayed topics in particular Topic 03. The top 5 terms returned have an interesting connection with a location, game, club, and Mrs. I wonder what reference this could be connecting back to."
   ]
  },
  {
   "cell_type": "markdown",
   "metadata": {},
   "source": [
    "## Fitting an LDA Model\n",
    "\n",
    "Finally, fit a five-topic LDA model using the count vectors (`count_text_vectors` from above). Display the results using `pyLDAvis.display` and describe what you learn from that visualization. "
   ]
  },
  {
   "cell_type": "code",
   "execution_count": 21,
   "metadata": {},
   "outputs": [
    {
     "name": "stderr",
     "output_type": "stream",
     "text": [
      "C:\\Users\\jackt\\anaconda3\\lib\\site-packages\\ipykernel\\ipkernel.py:287: DeprecationWarning: `should_run_async` will not call `transform_cell` automatically in the future. Please pass the result to `transformed_cell` argument and any exception that happen during thetransform in `preprocessing_exc_tuple` in IPython 7.17 and above.\n",
      "  and should_run_async(code)\n"
     ]
    }
   ],
   "source": [
    "# Fit your LDA model here\n",
    "\n",
    "lda_para_model = LatentDirichletAllocation(n_components = 5, random_state=42)\n",
    "W_lda_para_matrix = lda_para_model.fit_transform(count_text_vectors)\n",
    "H_lda_para_matrix = lda_para_model.components_\n",
    "\n",
    "# Section Complete"
   ]
  },
  {
   "cell_type": "code",
   "execution_count": 22,
   "metadata": {},
   "outputs": [
    {
     "name": "stdout",
     "output_type": "stream",
     "text": [
      "\n",
      "Topic 00\n",
      "  home (0.46)\n",
      "  right (0.35)\n",
      "  game (0.35)\n",
      "  way (0.34)\n",
      "  set (0.34)\n",
      "\n",
      "Topic 01\n",
      "  state (0.89)\n",
      "  development (0.57)\n",
      "  states (0.51)\n",
      "  program (0.46)\n",
      "  use (0.44)\n",
      "\n",
      "Topic 02\n",
      "  said (0.93)\n",
      "  mr (0.73)\n",
      "  president (0.63)\n",
      "  state (0.49)\n",
      "  mrs (0.48)\n",
      "\n",
      "Topic 03\n",
      "  feed (0.90)\n",
      "  general (0.73)\n",
      "  business (0.70)\n",
      "  property (0.69)\n",
      "  shall (0.67)\n",
      "\n",
      "Topic 04\n",
      "  said (1.56)\n",
      "  man (0.62)\n",
      "  little (0.62)\n",
      "  old (0.59)\n",
      "  good (0.53)\n"
     ]
    },
    {
     "name": "stderr",
     "output_type": "stream",
     "text": [
      "C:\\Users\\jackt\\anaconda3\\lib\\site-packages\\ipykernel\\ipkernel.py:287: DeprecationWarning: `should_run_async` will not call `transform_cell` automatically in the future. Please pass the result to `transformed_cell` argument and any exception that happen during thetransform in `preprocessing_exc_tuple` in IPython 7.17 and above.\n",
      "  and should_run_async(code)\n"
     ]
    }
   ],
   "source": [
    "# Call `display_topics` on your fitted model here\n",
    "\n",
    "display_topics(lda_para_model, count_text_vectorizer.get_feature_names())\n",
    "\n",
    "# Section Complete"
   ]
  },
  {
   "cell_type": "code",
   "execution_count": 23,
   "metadata": {},
   "outputs": [
    {
     "name": "stderr",
     "output_type": "stream",
     "text": [
      "C:\\Users\\jackt\\anaconda3\\lib\\site-packages\\ipykernel\\ipkernel.py:287: DeprecationWarning: `should_run_async` will not call `transform_cell` automatically in the future. Please pass the result to `transformed_cell` argument and any exception that happen during thetransform in `preprocessing_exc_tuple` in IPython 7.17 and above.\n",
      "  and should_run_async(code)\n"
     ]
    },
    {
     "data": {
      "text/plain": [
       "LDA_topics  category  \n",
       "0           editorial     10.714286\n",
       "            hobbies       57.142857\n",
       "            news          32.142857\n",
       "1           editorial      2.631579\n",
       "            government    52.631579\n",
       "            hobbies       36.842105\n",
       "            news           7.894737\n",
       "2           editorial     39.285714\n",
       "            government     3.571429\n",
       "            hobbies        1.785714\n",
       "            news          55.357143\n",
       "3           government    66.666667\n",
       "            hobbies       25.000000\n",
       "            news           8.333333\n",
       "4           editorial      3.125000\n",
       "            hobbies        6.250000\n",
       "            romance       90.625000\n",
       "Name: id, dtype: float64"
      ]
     },
     "execution_count": 23,
     "metadata": {},
     "output_type": "execute_result"
    }
   ],
   "source": [
    "df['LDA_topics'] = pd.DataFrame(W_lda_para_matrix).idxmax(axis=1)\n",
    "grp_df = df.groupby(['LDA_topics','category'])['id'].count()\n",
    "grp_df.groupby(level=0).apply(lambda x:100 * x / float(x.sum()))"
   ]
  },
  {
   "cell_type": "markdown",
   "metadata": {},
   "source": [
    "Q: What inference do you draw from the displayed topics for your LDA model? \n",
    "\n",
    "A: I found it interesting looking at the terms displayed in topic 01. It correctly identified government and the terms associated with it are terms you would likely expect from that topic. The terms such as state(s), development, and program seem like terms you could reasonably expect to hear in a Government topic. \n",
    "\n",
    "\n",
    "Q: How does your five-topic LDA model compare to the original Brown categories? \n",
    "\n",
    "A: It seems that topic 04 does a decently well job categorizing romance with the LDA model. It has similar performance as my first model above when it comes to a few topics, but it does not perform as well as the other.  "
   ]
  },
  {
   "cell_type": "code",
   "execution_count": 26,
   "metadata": {},
   "outputs": [
    {
     "name": "stderr",
     "output_type": "stream",
     "text": [
      "C:\\Users\\jackt\\anaconda3\\lib\\site-packages\\ipykernel\\ipkernel.py:287: DeprecationWarning: `should_run_async` will not call `transform_cell` automatically in the future. Please pass the result to `transformed_cell` argument and any exception that happen during thetransform in `preprocessing_exc_tuple` in IPython 7.17 and above.\n",
      "  and should_run_async(code)\n",
      "C:\\Users\\jackt\\anaconda3\\lib\\site-packages\\pyLDAvis\\_prepare.py:246: FutureWarning: In a future version of pandas all arguments of DataFrame.drop except for the argument 'labels' will be keyword-only.\n",
      "  default_term_info = default_term_info.sort_values(\n"
     ]
    }
   ],
   "source": [
    "lda_display = pyLDAvis.sklearn.prepare(lda_para_model, count_text_vectors, count_text_vectorizer, sort_topics=False)"
   ]
  },
  {
   "cell_type": "code",
   "execution_count": 27,
   "metadata": {},
   "outputs": [
    {
     "name": "stderr",
     "output_type": "stream",
     "text": [
      "C:\\Users\\jackt\\anaconda3\\lib\\site-packages\\ipykernel\\ipkernel.py:287: DeprecationWarning: `should_run_async` will not call `transform_cell` automatically in the future. Please pass the result to `transformed_cell` argument and any exception that happen during thetransform in `preprocessing_exc_tuple` in IPython 7.17 and above.\n",
      "  and should_run_async(code)\n"
     ]
    },
    {
     "data": {
      "text/html": [
       "\n",
       "<link rel=\"stylesheet\" type=\"text/css\" href=\"https://cdn.jsdelivr.net/gh/bmabey/pyLDAvis@3.3.1/pyLDAvis/js/ldavis.v1.0.0.css\">\n",
       "\n",
       "\n",
       "<div id=\"ldavis_el803222043444359847312054824\"></div>\n",
       "<script type=\"text/javascript\">\n",
       "\n",
       "var ldavis_el803222043444359847312054824_data = {\"mdsDat\": {\"x\": [-0.08904549103408588, 0.12393644925088647, 0.025500167589225797, 0.1597913545524164, -0.2201824803584429], \"y\": [0.1613561745541378, -0.009252658807314025, -0.04809236794046984, -0.016212399453422434, -0.0877987483529316], \"topics\": [1, 2, 3, 4, 5], \"cluster\": [1, 1, 1, 1, 1], \"Freq\": [17.447275076687028, 24.245910725798165, 32.8312362559609, 7.470347983419126, 18.00522995813477]}, \"tinfo\": {\"Term\": [\"said\", \"government\", \"general\", \"feed\", \"business\", \"united\", \"state\", \"states\", \"shall\", \"property\", \"department\", \"development\", \"act\", \"john\", \"didn\", \"tax\", \"ll\", \"thought\", \"mother\", \"president\", \"little\", \"board\", \"small\", \"local\", \"shelter\", \"don\", \"man\", \"old\", \"kennedy\", \"court\", \"player\", \"baseball\", \"panels\", \"leg\", \"yards\", \"yankees\", \"holes\", \"gallery\", \"vernon\", \"coach\", \"charlie\", \"plastic\", \"hits\", \"ball\", \"pittsburgh\", \"favorite\", \"runs\", \"pitcher\", \"hole\", \"pitching\", \"team\", \"paint\", \"stadium\", \"ruth\", \"willie\", \"bat\", \"homer\", \"amateur\", \"paintings\", \"chest\", \"pieces\", \"games\", \"cooling\", \"drill\", \"roy\", \"clay\", \"game\", \"bob\", \"golf\", \"season\", \"inch\", \"football\", \"playing\", \"hit\", \"frame\", \"piece\", \"league\", \"fig\", \"signs\", \"club\", \"cut\", \"junior\", \"play\", \"green\", \"run\", \"center\", \"home\", \"set\", \"won\", \"right\", \"place\", \"don\", \"second\", \"way\", \"house\", \"ll\", \"good\", \"work\", \"class\", \"mrs\", \"use\", \"left\", \"high\", \"better\", \"best\", \"said\", \"textile\", \"participation\", \"employee\", \"musical\", \"publications\", \"faculty\", \"forests\", \"recreation\", \"inventory\", \"interior\", \"fiscal\", \"producers\", \"imports\", \"creative\", \"designers\", \"maintain\", \"evaluation\", \"academic\", \"depreciation\", \"exceed\", \"coverage\", \"laboratories\", \"curriculum\", \"engineers\", \"expenditures\", \"comprehensive\", \"locations\", \"educated\", \"resources\", \"fishing\", \"rhode\", \"organizations\", \"vehicles\", \"india\", \"development\", \"projects\", \"library\", \"activities\", \"technical\", \"pool\", \"planning\", \"published\", \"import\", \"management\", \"site\", \"island\", \"plant\", \"medical\", \"bridge\", \"state\", \"research\", \"program\", \"industrial\", \"1960\", \"available\", \"corps\", \"system\", \"use\", \"production\", \"states\", \"period\", \"services\", \"important\", \"area\", \"interest\", \"national\", \"united\", \"work\", \"000\", \"service\", \"college\", \"water\", \"company\", \"government\", \"american\", \"business\", \"public\", \"high\", \"kennedy\", \"nuclear\", \"soviet\", \"khrushchev\", \"laos\", \"berlin\", \"congo\", \"republican\", \"moscow\", \"cuba\", \"weapons\", \"senate\", \"castro\", \"sen\", \"charter\", \"troops\", \"hughes\", \"premier\", \"communism\", \"democrats\", \"communists\", \"election\", \"aug\", \"welfare\", \"gen\", \"republicans\", \"katanga\", \"bombs\", \"police\", \"communist\", \"democratic\", \"rayburn\", \"georgia\", \"leader\", \"russia\", \"vote\", \"political\", \"jury\", \"president\", \"committee\", \"mr\", \"mayor\", \"county\", \"party\", \"council\", \"war\", \"mrs\", \"city\", \"meeting\", \"said\", \"east\", \"west\", \"yesterday\", \"nations\", \"000\", \"military\", \"administration\", \"school\", \"state\", \"american\", \"government\", \"public\", \"united\", \"people\", \"week\", \"world\", \"house\", \"states\", \"members\", \"john\", \"national\", \"program\", \"man\", \"home\", \"recommendation\", \"motors\", \"thereof\", \"boats\", \"shelter\", \"feed\", \"cattle\", \"interference\", \"chemical\", \"assessment\", \"catastrophe\", \"boat\", \"tangible\", \"engine\", \"stockholders\", \"conversion\", \"electricity\", \"claim\", \"property\", \"stations\", \"ratio\", \"accommodate\", \"farmers\", \"concrete\", \"battery\", \"pound\", \"blocks\", \"claims\", \"manufactured\", \"63\", \"loans\", \"officer\", \"credit\", \"trust\", \"shall\", \"farm\", \"respect\", \"laws\", \"general\", \"act\", \"business\", \"department\", \"stock\", \"hearing\", \"daily\", \"john\", \"small\", \"government\", \"local\", \"class\", \"board\", \"tax\", \"united\", \"court\", \"policy\", \"service\", \"states\", \"report\", \"head\", \"secretary\", \"pale\", \"smiled\", \"hadn\", \"hair\", \"listening\", \"shoes\", \"loved\", \"hell\", \"sick\", \"liked\", \"mother\", \"stared\", \"heel\", \"wondered\", \"smile\", \"tongue\", \"laughed\", \"handsome\", \"silent\", \"looked\", \"strange\", \"lips\", \"till\", \"dad\", \"dear\", \"fountain\", \"puerto\", \"rico\", \"susan\", \"nodded\", \"wasn\", \"couldn\", \"love\", \"sat\", \"didn\", \"eyes\", \"baby\", \"woman\", \"thought\", \"stood\", \"yes\", \"child\", \"wouldn\", \"knew\", \"alexander\", \"went\", \"father\", \"voice\", \"bed\", \"door\", \"felt\", \"girl\", \"got\", \"know\", \"god\", \"little\", \"said\", \"young\", \"came\", \"ll\", \"away\", \"old\", \"man\", \"boy\", \"come\", \"going\", \"don\", \"let\", \"thing\", \"good\", \"life\", \"way\", \"look\", \"day\", \"asked\", \"people\", \"think\", \"night\"], \"Freq\": [793.0, 274.0, 197.0, 90.0, 207.0, 301.0, 493.0, 334.0, 123.0, 91.0, 155.0, 202.0, 128.0, 165.0, 123.0, 176.0, 165.0, 138.0, 96.0, 298.0, 236.0, 173.0, 207.0, 127.0, 55.0, 175.0, 280.0, 251.0, 131.0, 106.0, 46.90061738279511, 38.32019195875092, 32.60147624919303, 27.831525211454085, 25.92923367532797, 24.965651021853606, 21.162778832210485, 21.15542955201551, 19.25438978445485, 21.947937942987995, 18.280628736886957, 24.50491087556356, 15.442227275155343, 59.06823780924096, 15.429350272859386, 15.429775935704052, 38.06692470201912, 14.482031649232406, 35.292612040869656, 13.53562175950474, 53.26575195711283, 13.516253246233777, 12.582744451574868, 12.582358303937454, 12.582206179585171, 12.580083705056325, 12.579537857165432, 12.57734493448934, 12.576735754565984, 18.81837879188689, 48.981019776164075, 28.516446892422927, 34.18539770126028, 30.685701114865804, 20.296779363910137, 70.92710391222971, 76.42101603091835, 21.859355384655032, 24.064317493411195, 55.75253195087142, 55.4157681253114, 23.176638782391766, 32.95509315449189, 45.29595924457138, 32.17680895813649, 45.657896996243856, 44.08800327041036, 26.85607118011568, 30.029049163988415, 68.24415837156742, 61.47380111399662, 44.515827629215416, 45.17975584948412, 41.74182728863298, 61.56050618593954, 53.24851828557136, 99.24831428743207, 73.15486854806186, 49.90191872032172, 77.17424013092689, 71.06844436634613, 67.45444118433487, 54.79575807121922, 73.85743200897524, 66.50953757158311, 58.071013526849505, 68.4539087110389, 64.722565864295, 48.0534707570168, 59.567487890085054, 57.07727059133227, 52.348609357358626, 52.82355751026624, 50.682057336880035, 49.36909901937131, 51.04430480221196, 28.305925725072314, 24.42493313016472, 24.416582541428408, 20.544465245197657, 19.577791969757836, 51.22952404642777, 15.703268535408904, 34.95910743832316, 16.499023102025525, 39.41961363149063, 105.71631917016921, 10.843150222887731, 10.843191961881843, 15.366030813907864, 10.837350150282644, 18.966346585386205, 8.90980287447346, 27.5290098548983, 8.858011680160237, 14.160264880448782, 12.377114435979667, 7.945091103923966, 7.944499146179792, 26.498449187642628, 24.601887270428133, 6.979551908378128, 6.977825659837762, 6.961783314860114, 35.52040249074207, 16.499841358692855, 77.51764253547499, 34.38058053559395, 38.779752097037374, 33.566598243280836, 171.06640326090846, 47.60581979772397, 40.70073357657619, 50.99879715314284, 50.77495370210977, 65.62205389309972, 69.98216493822902, 23.882312072832672, 22.226309066144545, 67.030664450667, 43.6088974986208, 90.07056610828145, 63.12724053593266, 76.72074181207184, 42.115783775743395, 269.2874548085988, 75.01508583602266, 137.8342923463194, 58.36202478028873, 85.25628829194956, 78.64673686400235, 55.994662475404525, 88.49431784587438, 132.0158601580121, 59.77628464526143, 153.87030346474563, 66.51941709764496, 61.04438701227958, 68.15034258267046, 75.45918600647904, 71.63562137761117, 89.85286077004835, 100.30627971605463, 89.75509366471236, 91.20163096512431, 79.78955096407287, 66.59945264744287, 70.94711198307795, 66.17064226428653, 76.07309911924519, 73.78709559466981, 70.73831575986186, 68.82940026130505, 67.17454331593024, 130.55798857848043, 78.28316230995776, 80.15534955730651, 72.42766617967004, 49.97545822375618, 64.32886075217476, 43.144148488863564, 39.23921138129498, 37.287232055420354, 37.28516229185792, 33.381173530539776, 50.48186809847181, 29.478116066043476, 29.47207013619415, 27.52447842099426, 26.546567561465405, 24.598100241185147, 24.597463627420403, 28.366359331598474, 23.621534418463416, 23.621514707273196, 53.85156123257409, 22.63499327719874, 28.289427952000686, 21.667875350260545, 19.717225368697083, 19.71533329535397, 18.73929886285082, 44.95663417155406, 71.08883786921633, 58.67263564973984, 44.72731796352683, 41.01186311970623, 40.96117807002635, 42.75494355800688, 53.260048495564824, 77.66451404222029, 45.9969439073824, 256.683308712722, 100.13108356008041, 299.5869369621241, 41.667745830182845, 89.54950650704203, 88.25087010038456, 63.24650314300962, 111.5499723025542, 196.81181942003664, 146.64337665669535, 77.42239713159223, 381.8436104074145, 75.45054972154976, 81.92645439054769, 54.33565818383023, 64.8707220197202, 157.17128924834785, 86.05398991963584, 90.41446202544762, 105.3411037374625, 200.51010750114833, 135.26728212749586, 136.36311808125194, 113.67484428167818, 143.13046428521704, 131.3935718106034, 102.30539146482388, 118.03946916863104, 110.8090738249677, 127.51280528548074, 85.81571642208263, 87.78699173276556, 90.85601777434411, 90.58171583241358, 91.80600480969771, 85.0690472338384, 17.178192154388924, 41.106603251950105, 10.842304100261678, 34.16341019761982, 51.60931009286699, 83.87131629281063, 16.961910390036493, 28.586241537893127, 21.559437024413477, 13.89206576184863, 4.315888104638112, 31.353398407560405, 10.914009441186632, 20.294080229062185, 14.36623441443742, 9.085753040663967, 8.38457750796186, 29.56793546629826, 63.98267165592614, 39.570851043849345, 13.3102269298164, 4.413536328938558, 11.812101414289863, 15.43484087972271, 8.542015318965726, 16.214437965845335, 13.141859292913473, 18.565904999623882, 5.376394928937717, 4.116116220725825, 18.870983705822532, 31.161953588731745, 23.437239531389203, 22.324315419680843, 62.11460505548219, 21.88716214046151, 25.334996433956245, 25.163041987260485, 68.3252303067501, 48.38785301733221, 65.54843990630371, 49.311286436948144, 31.93006553605567, 24.89563501926979, 25.29969976318768, 45.59237115011259, 50.878054309153114, 58.514786121858506, 39.12774388572344, 33.69960885418335, 42.05178208707661, 42.15988722908467, 51.06259229251357, 32.487661084421816, 30.13918052121713, 37.84698971611555, 43.12969271026981, 26.44791636101446, 27.322591717134138, 26.950204279627165, 26.223972084815525, 26.223125676036236, 30.807720714277103, 34.29585524073733, 18.509420935971917, 18.506600131978942, 17.546129234809708, 15.616621370254823, 15.616011782791325, 14.652382045426366, 91.65336955100092, 14.640724595512133, 14.616591009698478, 13.687751571357218, 13.684077201385557, 13.681568956662659, 12.722342624999996, 15.422502005302233, 11.7609945495664, 79.59653259438066, 15.325600615889103, 10.79880247809888, 10.79554911739028, 10.790566768128175, 10.79093440260421, 10.789337946981785, 18.783165780481806, 18.78293447851756, 25.066750015052264, 9.830940284581837, 53.62872441597585, 49.06544191651014, 55.02546570060434, 34.66268537557113, 110.38470093345865, 86.73179772095601, 32.36544188429686, 48.68000455264934, 115.39167767292918, 42.39388244533551, 35.80365335589419, 56.41316348295636, 36.297650116639076, 72.90742519564198, 22.6795819778021, 99.56843254895266, 50.25735129316529, 40.323913913242635, 30.457366445791575, 53.597192336938, 66.8846651465939, 37.33179687081799, 97.3378695746267, 118.80837727344338, 48.24708939329571, 140.00647011714807, 351.18140878849977, 87.76999255278074, 100.05581404206987, 99.3303490758981, 79.03211438555667, 131.7804774714752, 140.16148159356433, 58.44275600148456, 102.08235138043327, 81.29417470698681, 95.25692500726005, 74.88672246223311, 64.23603254057313, 119.13152483850267, 82.15193418702746, 100.34242550525855, 70.95953136733556, 99.45093278293245, 68.27580654754776, 87.43700324028714, 69.72423847300402, 68.29549271581838], \"Total\": [793.0, 274.0, 197.0, 90.0, 207.0, 301.0, 493.0, 334.0, 123.0, 91.0, 155.0, 202.0, 128.0, 165.0, 123.0, 176.0, 165.0, 138.0, 96.0, 298.0, 236.0, 173.0, 207.0, 127.0, 55.0, 175.0, 280.0, 251.0, 131.0, 106.0, 47.66435300694077, 39.084492371229665, 33.364527973957685, 28.5979929257464, 26.691310763606392, 25.738143827757217, 21.92468223324926, 21.924817581034787, 20.01809687359508, 22.880883003207973, 19.065014116945715, 25.70966673750172, 16.204806079853498, 61.988572732105354, 16.204394517781505, 16.204890857285132, 40.05825609278074, 15.251554624872279, 37.190657020473616, 14.298157118147191, 56.281680094990634, 14.298523621335823, 13.344838599195498, 13.344843079876615, 13.344839526551365, 13.344862169537452, 13.344899633086353, 13.344939833001618, 13.344930852856601, 20.02842661909921, 52.394966399668554, 30.51959144721901, 37.20925808553478, 33.40360988757231, 21.934628832262845, 81.13903425209911, 88.77109117227327, 23.859328205313677, 26.714928402944295, 66.76963227458812, 67.14937119000086, 25.78098070413127, 39.08730858341472, 57.42506489349287, 38.237812720554174, 60.3237098775995, 59.39162196779938, 31.223974591614883, 36.35442971383613, 110.3909400927505, 97.0095648869717, 64.01392047945937, 66.04973567917799, 61.32170923668713, 117.88826919757688, 93.23398979469351, 264.66356215080447, 168.10523589933345, 87.32555005640006, 211.53755012135656, 188.18760422508666, 175.5483402691201, 122.20078914070955, 273.0193860145693, 231.71600302131583, 165.2567983044056, 306.47272024823735, 259.6511321710866, 97.21507091062857, 305.43622983849275, 255.6860895864658, 160.69766950684607, 219.2386186722574, 158.86513520952576, 138.3197812763167, 793.1980625140222, 29.06627783470175, 25.188216012781396, 25.18742543006548, 21.310435117003816, 20.340699169766882, 53.31198076178554, 16.463037130041393, 36.73950920168944, 17.4192369083037, 41.64436812342539, 112.46771652014817, 11.61524161507278, 11.615681174914716, 16.4653550956529, 11.61544419412026, 20.34502437893203, 9.676277631083892, 30.04745988628144, 9.676528342844183, 15.489464864639482, 13.557378463278008, 8.707277541875047, 8.707210774621492, 29.058477697581303, 27.13942791024225, 7.737949798815939, 7.737860506987796, 7.737897552736276, 39.489065543769485, 18.395763377437333, 86.93927376656615, 38.53756413175114, 43.53651361214189, 37.8148431919979, 202.54345953668172, 54.28910391509667, 46.48914175778718, 58.87298783480306, 59.05703959312544, 78.44349545891586, 86.15500553198629, 27.14422776186399, 25.15254221181196, 85.44802420189775, 53.18898347487009, 120.69243365827356, 81.17637891156791, 102.7448970487831, 52.16582048185009, 493.62537576096923, 104.64650009037022, 234.15281293863538, 79.30368946288398, 130.85965117021192, 120.502293721738, 76.67837338800317, 144.03487318157988, 255.6860895864658, 84.94096130626134, 334.6090934747784, 100.26523677017703, 95.46666258152918, 116.54560425434, 146.63878947508462, 134.87934177696735, 215.76386447134638, 301.11435465212674, 259.6511321710866, 283.7377340480486, 204.71415487286396, 125.01374970261887, 162.35101162081634, 139.2006376068672, 274.29200396195137, 263.62749181320373, 207.05856226204008, 202.12176262528652, 219.2386186722574, 131.7474469432031, 79.04169172167214, 80.99298021478866, 73.18495123391351, 50.73405016321961, 65.35199596575514, 43.90119445536836, 39.99668095319411, 38.044422538977315, 38.04440829842819, 34.139894173383965, 51.70571903782867, 30.235427051212046, 30.234936155226123, 28.283157414718232, 27.307002651521746, 25.35480649672315, 25.354775130552337, 29.258280708044044, 24.378674890125264, 24.378670527073798, 55.59125568724586, 23.401739554694213, 29.25720762270474, 22.426402188945165, 20.47417369574091, 20.474115528689577, 19.49802272108339, 46.8219591225045, 74.13978785883914, 61.4575016612404, 46.813171618447974, 42.917154782242434, 42.89665200500994, 44.86776847478225, 56.465180883003015, 83.75605493543978, 48.757100064066435, 298.0049253740504, 111.16954463300404, 388.94905731377287, 44.816808509298205, 105.29405630331753, 108.99175405552208, 73.93467892099109, 146.94695472971074, 305.43622983849275, 215.50738617088138, 98.0723097217091, 793.1980625140222, 95.30910098855254, 106.76662465986618, 62.315939205517665, 79.91343885868758, 283.7377340480486, 123.46464847790247, 133.10411493977057, 172.8735212681787, 493.62537576096923, 263.62749181320373, 274.29200396195137, 202.12176262528652, 301.11435465212674, 265.38333183383327, 188.83148033048113, 255.82115900738123, 231.71600302131583, 334.6090934747784, 141.9308841452142, 165.0858665121469, 215.76386447134638, 234.15281293863538, 280.60515491806694, 264.66356215080447, 17.961121314259447, 43.12194604653764, 11.700075655514453, 36.90569403096427, 55.84550812393384, 90.90616061720618, 19.90878972846618, 34.47677595534109, 26.335730556568826, 17.282024361165274, 5.455801077999411, 39.998919013714534, 14.622982316965382, 28.351111087163208, 20.1676322267398, 12.810231836101384, 11.911588284586088, 42.15346438822949, 91.75925342616246, 56.93288479393989, 19.252482229328216, 6.423512756744706, 17.469779612267295, 22.959421024424874, 12.803104188002514, 24.696805696968735, 20.13841839535746, 28.522111995551178, 8.27613448982486, 6.441695690297938, 30.45689408364978, 51.788746686224684, 38.81757716815537, 37.01753180641862, 123.83285098432724, 37.982223466607635, 46.3753008385189, 47.48340486956452, 197.37841645995601, 128.93242528505576, 207.05856226204008, 155.2374171283645, 75.70146992373198, 50.324547065276825, 52.30758922305791, 165.0858665121469, 207.43867271064562, 274.29200396195137, 127.82948794710167, 97.21507091062857, 173.0630037424418, 176.2368911946502, 301.11435465212674, 106.2613139654032, 92.7569883643137, 204.71415487286396, 334.6090934747784, 88.16202157990377, 132.73249417201163, 121.30035314519753, 26.98571885013834, 26.98574011303126, 31.804157090501374, 35.65690093636527, 19.271959939038837, 19.2719287819127, 18.30775648742037, 16.379241516888634, 16.379216173724906, 15.415029062860159, 96.4589930967568, 15.41488098158035, 15.415264817709478, 14.450711190669253, 14.450763884434103, 14.450863632331531, 13.486300190496245, 16.377042400438707, 12.522303359993169, 84.88269641041101, 16.38286702212015, 11.558146294110998, 11.557949780159593, 11.55763912661067, 11.55816283317528, 11.558051587014768, 20.224026899908388, 20.224030361398196, 26.999578613815164, 10.59389018154445, 57.85865846732317, 53.030372288848504, 59.81156820696335, 37.61195313858665, 123.4268852265731, 97.3911799585762, 35.69498617915271, 54.95247669899157, 138.69837865089423, 48.25759988223436, 40.48732403924651, 66.60739113340799, 41.49620421779666, 89.53364153849796, 25.07303534911507, 135.94578054290616, 62.78202994632662, 49.245742711821435, 35.637088790505295, 69.45977814175701, 90.79523483151367, 45.387863018856734, 145.50569633380394, 189.70420918103292, 62.82940619342617, 236.30079058658143, 793.1980625140222, 135.2981497462788, 161.03398411558888, 165.2567983044056, 122.54615448701333, 251.92407677669965, 280.60515491806694, 81.83629935183657, 184.36189869363707, 132.47185180074933, 175.5483402691201, 121.46569418607591, 95.39493602342324, 306.47272024823735, 161.4360556056238, 273.0193860145693, 129.0991508258936, 301.1134031707986, 117.84170377486386, 265.38333183383327, 132.8099695647969, 150.04996102402907], \"Category\": [\"Default\", \"Default\", \"Default\", \"Default\", \"Default\", \"Default\", \"Default\", \"Default\", \"Default\", \"Default\", \"Default\", \"Default\", \"Default\", \"Default\", \"Default\", \"Default\", \"Default\", \"Default\", \"Default\", \"Default\", \"Default\", \"Default\", \"Default\", \"Default\", \"Default\", \"Default\", \"Default\", \"Default\", \"Default\", \"Default\", \"Topic1\", \"Topic1\", \"Topic1\", \"Topic1\", \"Topic1\", \"Topic1\", \"Topic1\", \"Topic1\", \"Topic1\", \"Topic1\", \"Topic1\", \"Topic1\", \"Topic1\", \"Topic1\", \"Topic1\", \"Topic1\", \"Topic1\", \"Topic1\", \"Topic1\", \"Topic1\", \"Topic1\", \"Topic1\", \"Topic1\", \"Topic1\", \"Topic1\", \"Topic1\", \"Topic1\", \"Topic1\", \"Topic1\", \"Topic1\", \"Topic1\", \"Topic1\", \"Topic1\", \"Topic1\", \"Topic1\", \"Topic1\", \"Topic1\", \"Topic1\", \"Topic1\", \"Topic1\", \"Topic1\", \"Topic1\", \"Topic1\", \"Topic1\", \"Topic1\", \"Topic1\", \"Topic1\", \"Topic1\", \"Topic1\", \"Topic1\", \"Topic1\", \"Topic1\", \"Topic1\", \"Topic1\", \"Topic1\", \"Topic1\", \"Topic1\", \"Topic1\", \"Topic1\", \"Topic1\", \"Topic1\", \"Topic1\", \"Topic1\", \"Topic1\", \"Topic1\", \"Topic1\", \"Topic1\", \"Topic1\", \"Topic1\", \"Topic1\", \"Topic1\", \"Topic1\", \"Topic1\", \"Topic1\", \"Topic1\", \"Topic1\", \"Topic2\", \"Topic2\", \"Topic2\", \"Topic2\", \"Topic2\", \"Topic2\", \"Topic2\", \"Topic2\", \"Topic2\", \"Topic2\", \"Topic2\", \"Topic2\", \"Topic2\", \"Topic2\", \"Topic2\", \"Topic2\", \"Topic2\", \"Topic2\", \"Topic2\", \"Topic2\", \"Topic2\", \"Topic2\", \"Topic2\", \"Topic2\", \"Topic2\", \"Topic2\", \"Topic2\", \"Topic2\", \"Topic2\", \"Topic2\", \"Topic2\", \"Topic2\", \"Topic2\", \"Topic2\", \"Topic2\", \"Topic2\", \"Topic2\", \"Topic2\", \"Topic2\", \"Topic2\", \"Topic2\", \"Topic2\", \"Topic2\", \"Topic2\", \"Topic2\", \"Topic2\", \"Topic2\", \"Topic2\", \"Topic2\", \"Topic2\", \"Topic2\", \"Topic2\", \"Topic2\", \"Topic2\", \"Topic2\", \"Topic2\", \"Topic2\", \"Topic2\", \"Topic2\", \"Topic2\", \"Topic2\", \"Topic2\", \"Topic2\", \"Topic2\", \"Topic2\", \"Topic2\", \"Topic2\", \"Topic2\", \"Topic2\", \"Topic2\", \"Topic2\", \"Topic2\", \"Topic2\", \"Topic2\", \"Topic2\", \"Topic2\", \"Topic2\", \"Topic2\", \"Topic3\", \"Topic3\", \"Topic3\", \"Topic3\", \"Topic3\", \"Topic3\", \"Topic3\", \"Topic3\", \"Topic3\", \"Topic3\", \"Topic3\", \"Topic3\", \"Topic3\", \"Topic3\", \"Topic3\", \"Topic3\", \"Topic3\", \"Topic3\", \"Topic3\", \"Topic3\", \"Topic3\", \"Topic3\", \"Topic3\", \"Topic3\", \"Topic3\", \"Topic3\", \"Topic3\", \"Topic3\", \"Topic3\", \"Topic3\", \"Topic3\", \"Topic3\", \"Topic3\", \"Topic3\", \"Topic3\", \"Topic3\", \"Topic3\", \"Topic3\", \"Topic3\", \"Topic3\", \"Topic3\", \"Topic3\", \"Topic3\", \"Topic3\", \"Topic3\", \"Topic3\", \"Topic3\", \"Topic3\", \"Topic3\", \"Topic3\", \"Topic3\", \"Topic3\", \"Topic3\", \"Topic3\", \"Topic3\", \"Topic3\", \"Topic3\", \"Topic3\", \"Topic3\", \"Topic3\", \"Topic3\", \"Topic3\", \"Topic3\", \"Topic3\", \"Topic3\", \"Topic3\", \"Topic3\", \"Topic3\", \"Topic3\", \"Topic3\", \"Topic3\", \"Topic3\", \"Topic3\", \"Topic3\", \"Topic4\", \"Topic4\", \"Topic4\", \"Topic4\", \"Topic4\", \"Topic4\", \"Topic4\", \"Topic4\", \"Topic4\", \"Topic4\", \"Topic4\", \"Topic4\", \"Topic4\", \"Topic4\", \"Topic4\", \"Topic4\", \"Topic4\", \"Topic4\", \"Topic4\", \"Topic4\", \"Topic4\", \"Topic4\", \"Topic4\", \"Topic4\", \"Topic4\", \"Topic4\", \"Topic4\", \"Topic4\", \"Topic4\", \"Topic4\", \"Topic4\", \"Topic4\", \"Topic4\", \"Topic4\", \"Topic4\", \"Topic4\", \"Topic4\", \"Topic4\", \"Topic4\", \"Topic4\", \"Topic4\", \"Topic4\", \"Topic4\", \"Topic4\", \"Topic4\", \"Topic4\", \"Topic4\", \"Topic4\", \"Topic4\", \"Topic4\", \"Topic4\", \"Topic4\", \"Topic4\", \"Topic4\", \"Topic4\", \"Topic4\", \"Topic4\", \"Topic4\", \"Topic4\", \"Topic4\", \"Topic5\", \"Topic5\", \"Topic5\", \"Topic5\", \"Topic5\", \"Topic5\", \"Topic5\", \"Topic5\", \"Topic5\", \"Topic5\", \"Topic5\", \"Topic5\", \"Topic5\", \"Topic5\", \"Topic5\", \"Topic5\", \"Topic5\", \"Topic5\", \"Topic5\", \"Topic5\", \"Topic5\", \"Topic5\", \"Topic5\", \"Topic5\", \"Topic5\", \"Topic5\", \"Topic5\", \"Topic5\", \"Topic5\", \"Topic5\", \"Topic5\", \"Topic5\", \"Topic5\", \"Topic5\", \"Topic5\", \"Topic5\", \"Topic5\", \"Topic5\", \"Topic5\", \"Topic5\", \"Topic5\", \"Topic5\", \"Topic5\", \"Topic5\", \"Topic5\", \"Topic5\", \"Topic5\", \"Topic5\", \"Topic5\", \"Topic5\", \"Topic5\", \"Topic5\", \"Topic5\", \"Topic5\", \"Topic5\", \"Topic5\", \"Topic5\", \"Topic5\", \"Topic5\", \"Topic5\", \"Topic5\", \"Topic5\", \"Topic5\", \"Topic5\", \"Topic5\", \"Topic5\", \"Topic5\", \"Topic5\", \"Topic5\", \"Topic5\", \"Topic5\", \"Topic5\", \"Topic5\", \"Topic5\", \"Topic5\", \"Topic5\", \"Topic5\", \"Topic5\"], \"logprob\": [30.0, 29.0, 28.0, 27.0, 26.0, 25.0, 24.0, 23.0, 22.0, 21.0, 20.0, 19.0, 18.0, 17.0, 16.0, 15.0, 14.0, 13.0, 12.0, 11.0, 10.0, 9.0, 8.0, 7.0, 6.0, 5.0, 4.0, 3.0, 2.0, 1.0, -6.1393, -6.3414, -6.503, -6.6612, -6.732, -6.7699, -6.9351, -6.9355, -7.0296, -6.8987, -7.0815, -6.7885, -7.2503, -5.9087, -7.2511, -7.2511, -6.348, -7.3145, -6.4237, -7.382, -6.0121, -7.3835, -7.455, -7.4551, -7.4551, -7.4553, -7.4553, -7.4555, -7.4555, -7.0525, -6.0959, -6.6369, -6.4556, -6.5636, -6.9769, -5.7257, -5.6511, -6.9027, -6.8066, -5.9665, -5.9725, -6.8442, -6.4922, -6.1742, -6.5161, -6.1662, -6.2012, -6.6969, -6.5852, -5.7643, -5.8688, -6.1915, -6.1767, -6.2559, -5.8674, -6.0124, -5.3897, -5.6948, -6.0773, -5.6413, -5.7237, -5.7759, -5.9838, -5.6852, -5.79, -5.9257, -5.7612, -5.8173, -6.1151, -5.9003, -5.943, -6.0294, -6.0204, -6.0618, -6.088, -6.0547, -6.9734, -7.1208, -7.1212, -7.2938, -7.342, -6.3801, -7.5626, -6.7623, -7.5131, -6.6422, -5.6557, -7.9329, -7.9329, -7.5843, -7.9334, -7.3738, -8.1293, -7.0012, -8.1351, -7.666, -7.8006, -8.2439, -8.244, -7.0394, -7.1136, -8.3735, -8.3737, -8.376, -6.7463, -7.5131, -5.9659, -6.7789, -6.6585, -6.8029, -5.1744, -6.4535, -6.6102, -6.3846, -6.389, -6.1325, -6.0682, -7.1433, -7.2152, -6.1113, -6.5412, -5.8158, -6.1713, -5.9763, -6.576, -4.7207, -5.9987, -5.3904, -6.2498, -5.8708, -5.9515, -6.2912, -5.8335, -5.4335, -6.2258, -5.2803, -6.1189, -6.2048, -6.0947, -5.9928, -6.0448, -5.8183, -5.7082, -5.8194, -5.8034, -5.937, -6.1177, -6.0545, -6.1242, -5.9847, -6.0153, -6.0575, -6.0848, -6.1091, -5.7478, -6.2592, -6.2356, -6.337, -6.708, -6.4556, -6.855, -6.9499, -7.0009, -7.001, -7.1116, -6.698, -7.2359, -7.2361, -7.3045, -7.3407, -7.4169, -7.4169, -7.2744, -7.4574, -7.4574, -6.6333, -7.5001, -7.2771, -7.5437, -7.6381, -7.6382, -7.6889, -6.8139, -6.3556, -6.5476, -6.819, -6.9057, -6.9069, -6.8641, -6.6444, -6.2672, -6.791, -5.0717, -6.0131, -4.9172, -6.8898, -6.1248, -6.1394, -6.4725, -5.9051, -5.3373, -5.6316, -6.2703, -4.6746, -6.2961, -6.2137, -6.6244, -6.4472, -5.5622, -6.1646, -6.1152, -5.9624, -5.3187, -5.7123, -5.7043, -5.8862, -5.6558, -5.7414, -5.9916, -5.8486, -5.9118, -5.7714, -6.1674, -6.1447, -6.1103, -6.1133, -6.0999, -6.1761, -6.2955, -5.423, -6.7557, -5.608, -5.1954, -4.7098, -6.3082, -5.7862, -6.0683, -6.5078, -7.6768, -5.6938, -6.7491, -6.1288, -6.4743, -6.9324, -7.0127, -5.7524, -4.9805, -5.461, -6.5506, -7.6545, -6.67, -6.4025, -6.9941, -6.3532, -6.5633, -6.2178, -7.4571, -7.7242, -6.2015, -5.6999, -5.9848, -6.0335, -5.0102, -6.0532, -5.9069, -5.9138, -4.9149, -5.2599, -4.9563, -5.241, -5.6756, -5.9244, -5.9083, -5.3194, -5.2097, -5.0699, -5.4723, -5.6216, -5.4002, -5.3977, -5.2061, -5.6583, -5.7333, -5.5056, -5.3749, -5.864, -5.8314, -5.8451, -6.7522, -6.7522, -6.5911, -6.4838, -7.1006, -7.1007, -7.154, -7.2705, -7.2706, -7.3343, -5.5008, -7.335, -7.3367, -7.4024, -7.4026, -7.4028, -7.4755, -7.283, -7.5541, -5.6419, -7.2893, -7.6394, -7.6397, -7.6402, -7.6401, -7.6403, -7.0859, -7.0859, -6.7973, -7.7333, -6.0368, -6.1257, -6.0111, -6.4732, -5.3149, -5.556, -6.5418, -6.1336, -5.2705, -6.2718, -6.4408, -5.9862, -6.4271, -5.7297, -6.8974, -5.418, -6.1017, -6.3219, -6.6025, -6.0374, -5.8159, -6.399, -5.4407, -5.2413, -6.1425, -5.0772, -4.1576, -5.5441, -5.4131, -5.4204, -5.649, -5.1377, -5.0761, -5.9508, -5.3931, -5.6208, -5.4623, -5.7029, -5.8563, -5.2386, -5.6103, -5.4103, -5.7567, -5.4192, -5.7953, -5.5479, -5.7743, -5.795], \"loglift\": [30.0, 29.0, 28.0, 27.0, 26.0, 25.0, 24.0, 23.0, 22.0, 21.0, 20.0, 19.0, 18.0, 17.0, 16.0, 15.0, 14.0, 13.0, 12.0, 11.0, 10.0, 9.0, 8.0, 7.0, 6.0, 5.0, 4.0, 3.0, 2.0, 1.0, 1.7298, 1.7262, 1.7229, 1.7188, 1.717, 1.7155, 1.7106, 1.7103, 1.7071, 1.7044, 1.704, 1.698, 1.6978, 1.6977, 1.697, 1.697, 1.695, 1.6942, 1.6936, 1.6912, 1.6909, 1.6897, 1.6872, 1.6872, 1.6871, 1.687, 1.6869, 1.6867, 1.6867, 1.6837, 1.6786, 1.6781, 1.6612, 1.6611, 1.6684, 1.6115, 1.5962, 1.6584, 1.6415, 1.5657, 1.5539, 1.6395, 1.5753, 1.5087, 1.5734, 1.4674, 1.448, 1.5953, 1.5548, 1.2651, 1.2898, 1.3827, 1.3662, 1.3614, 1.0963, 1.1858, 0.7652, 0.914, 1.1864, 0.7376, 0.7722, 0.7895, 0.9439, 0.4386, 0.4978, 0.7002, 0.247, 0.3568, 1.0414, 0.1114, 0.2464, 0.6244, 0.3228, 0.6035, 0.7157, -0.9974, 1.3904, 1.3862, 1.3858, 1.3803, 1.3787, 1.3771, 1.3697, 1.3672, 1.3626, 1.362, 1.355, 1.3481, 1.3481, 1.3478, 1.3476, 1.3468, 1.3344, 1.3294, 1.3285, 1.3272, 1.3258, 1.3253, 1.3253, 1.3247, 1.3188, 1.3138, 1.3135, 1.3112, 1.311, 1.3082, 1.3022, 1.3028, 1.3012, 1.2978, 1.248, 1.2856, 1.2839, 1.2733, 1.2658, 1.2385, 1.209, 1.2889, 1.2932, 1.1742, 1.2183, 1.1243, 1.1655, 1.1248, 1.2029, 0.8109, 1.084, 0.887, 1.1103, 0.9885, 0.9902, 1.1026, 0.9298, 0.7559, 1.0656, 0.6401, 1.0066, 0.9697, 0.8804, 0.7525, 0.7841, 0.5409, 0.3177, 0.3547, 0.2819, 0.4747, 0.7872, 0.5891, 0.6732, 0.1344, 0.1436, 0.3429, 0.3397, 0.2341, 1.1047, 1.1041, 1.1034, 1.1034, 1.0987, 1.098, 1.0964, 1.0947, 1.0937, 1.0936, 1.0913, 1.0898, 1.0884, 1.0882, 1.0866, 1.0855, 1.0835, 1.0835, 1.0828, 1.0822, 1.0822, 1.082, 1.0805, 1.0802, 1.0794, 1.0761, 1.076, 1.0741, 1.0731, 1.0718, 1.0674, 1.0682, 1.0684, 1.0676, 1.0656, 1.0554, 1.0383, 1.0555, 0.9645, 1.0092, 0.8527, 1.0409, 0.9518, 0.9027, 0.9576, 0.8382, 0.6743, 0.7288, 0.8774, 0.3827, 0.8801, 0.849, 0.9768, 0.9052, 0.5231, 0.7528, 0.7271, 0.6184, 0.2129, 0.4465, 0.4149, 0.5383, 0.3701, 0.4108, 0.5009, 0.3403, 0.3761, 0.149, 0.6107, 0.4822, 0.2489, 0.1641, -0.0035, -0.0212, 2.5497, 2.5464, 2.5181, 2.517, 2.5153, 2.5137, 2.434, 2.4069, 2.3941, 2.3759, 2.3599, 2.3507, 2.3017, 2.2599, 2.255, 2.2507, 2.2431, 2.2396, 2.2337, 2.2304, 2.2251, 2.2189, 2.2029, 2.1971, 2.1895, 2.1735, 2.1674, 2.1649, 2.1629, 2.1463, 2.1155, 2.0863, 2.0897, 2.0885, 1.9043, 2.043, 1.9896, 1.9592, 1.5334, 1.6142, 1.444, 1.4474, 1.731, 1.8904, 1.8679, 1.3075, 1.1888, 1.0493, 1.4104, 1.5348, 1.1795, 1.1639, 0.8198, 1.4092, 1.4701, 0.9062, 0.5455, 1.3902, 1.0136, 1.0899, 1.6859, 1.6858, 1.6827, 1.6756, 1.6741, 1.674, 1.672, 1.6668, 1.6668, 1.6638, 1.6634, 1.663, 1.6613, 1.6603, 1.66, 1.6598, 1.6562, 1.6545, 1.6518, 1.6502, 1.6478, 1.6466, 1.6463, 1.6458, 1.6458, 1.6457, 1.6406, 1.6406, 1.6402, 1.6398, 1.6386, 1.6368, 1.6311, 1.6328, 1.6028, 1.5986, 1.6166, 1.5933, 1.5305, 1.585, 1.5916, 1.5484, 1.5807, 1.5091, 1.6142, 1.4031, 1.492, 1.5146, 1.5574, 1.4553, 1.4089, 1.5191, 1.3125, 1.2466, 1.4504, 1.1911, 0.8997, 1.2817, 1.2386, 1.2055, 1.2759, 1.0665, 1.0204, 1.3778, 1.1234, 1.2262, 1.1032, 1.2309, 1.319, 0.7696, 1.039, 0.7136, 1.116, 0.6067, 1.1687, 0.6043, 1.0701, 0.9274]}, \"token.table\": {\"Topic\": [1, 2, 3, 4, 5, 1, 2, 3, 2, 4, 2, 3, 3, 4, 2, 3, 4, 5, 2, 3, 4, 2, 3, 4, 3, 5, 1, 1, 2, 3, 4, 5, 1, 2, 3, 4, 5, 1, 2, 3, 4, 5, 3, 4, 3, 1, 2, 3, 4, 5, 1, 2, 3, 5, 3, 5, 1, 5, 1, 1, 1, 4, 1, 3, 5, 3, 1, 2, 3, 4, 5, 1, 2, 3, 4, 5, 1, 3, 4, 1, 2, 3, 4, 5, 1, 2, 4, 5, 3, 4, 5, 1, 3, 3, 1, 3, 5, 1, 2, 1, 2, 3, 4, 5, 1, 2, 3, 5, 3, 2, 4, 2, 4, 5, 1, 2, 3, 5, 1, 3, 2, 3, 4, 1, 3, 1, 2, 3, 5, 1, 2, 3, 4, 5, 3, 4, 5, 2, 3, 4, 5, 1, 2, 3, 4, 5, 1, 3, 4, 5, 1, 2, 3, 5, 1, 1, 2, 3, 4, 5, 1, 2, 3, 4, 5, 1, 2, 3, 3, 2, 3, 5, 3, 1, 2, 3, 4, 5, 2, 3, 4, 5, 3, 1, 3, 4, 1, 2, 5, 1, 2, 3, 1, 3, 5, 1, 2, 3, 4, 2, 3, 1, 3, 4, 5, 2, 3, 2, 3, 2, 3, 4, 5, 3, 2, 1, 2, 3, 5, 5, 2, 3, 4, 1, 2, 3, 4, 5, 5, 2, 3, 3, 1, 2, 3, 4, 2, 2, 1, 2, 3, 4, 1, 2, 3, 5, 1, 2, 3, 4, 5, 1, 2, 3, 5, 1, 2, 3, 1, 2, 3, 4, 2, 1, 3, 2, 3, 4, 2, 1, 2, 3, 4, 5, 1, 2, 3, 2, 2, 5, 2, 3, 1, 2, 3, 5, 2, 3, 1, 3, 4, 5, 3, 4, 2, 3, 5, 1, 1, 4, 5, 2, 3, 4, 5, 1, 4, 2, 3, 2, 5, 1, 3, 2, 5, 1, 3, 5, 1, 1, 2, 3, 4, 5, 1, 5, 3, 1, 2, 3, 4, 5, 2, 3, 2, 3, 5, 3, 5, 1, 2, 3, 5, 1, 2, 1, 2, 3, 4, 5, 1, 3, 5, 2, 3, 4, 5, 1, 3, 5, 5, 1, 5, 5, 1, 2, 3, 4, 5, 3, 4, 5, 5, 5, 1, 2, 3, 4, 5, 1, 3, 5, 1, 1, 5, 1, 1, 2, 3, 4, 5, 1, 1, 2, 3, 4, 5, 3, 1, 2, 1, 2, 3, 4, 5, 2, 1, 2, 4, 2, 3, 1, 2, 3, 4, 1, 2, 3, 4, 5, 1, 3, 4, 1, 2, 2, 1, 2, 3, 4, 5, 1, 2, 3, 4, 5, 1, 2, 3, 4, 3, 5, 3, 2, 3, 3, 1, 3, 4, 5, 1, 2, 3, 4, 5, 2, 3, 5, 2, 3, 4, 1, 3, 1, 2, 3, 5, 1, 2, 3, 4, 5, 1, 1, 2, 3, 4, 5, 2, 5, 1, 2, 3, 4, 5, 5, 5, 5, 1, 2, 3, 4, 5, 1, 2, 3, 5, 2, 3, 4, 1, 2, 3, 4, 2, 1, 2, 3, 4, 5, 1, 3, 5, 2, 3, 5, 5, 2, 3, 1, 2, 3, 5, 1, 2, 3, 4, 2, 4, 1, 3, 1, 2, 3, 4, 1, 2, 3, 4, 5, 1, 2, 3, 5, 1, 2, 3, 4, 3, 3, 5, 2, 4, 1, 2, 3, 4, 5, 1, 3, 5, 2, 1, 2, 3, 4, 5, 2, 3, 1, 3, 4, 5, 5, 3, 2, 3, 4, 5, 1, 2, 3, 5, 2, 3, 4, 1, 1, 5, 1, 2, 1, 3, 5, 1, 2, 3, 4, 5, 1, 2, 3, 4, 5, 1, 2, 3, 1, 2, 4, 1, 1, 1, 1, 2, 3, 4, 5, 2, 3, 4, 1, 2, 3, 4, 5, 1, 4, 1, 2, 3, 4, 5, 1, 1, 2, 4, 5, 2, 3, 1, 2, 3, 4, 2, 3, 4, 2, 5, 1, 4, 3, 1, 2, 3, 4, 5, 2, 1, 2, 3, 4, 1, 2, 3, 1, 2, 3, 2, 3, 4, 5, 1, 2, 3, 4, 2, 2, 3, 2, 5, 2, 4, 3, 5, 4, 2, 4, 1, 2, 3, 4, 5, 3, 3, 1, 2, 3, 4, 2, 4, 1, 2, 3, 4, 5, 2, 3, 4, 5, 2, 5, 1, 2, 3, 4, 5, 1, 5, 1, 2, 3, 4, 5, 1, 2, 2, 3, 1, 1, 2, 3, 4, 5, 2, 3, 5, 1, 2, 3, 5, 1, 2, 4, 1, 2, 3, 4, 5, 2, 3, 4, 5, 3, 2, 3, 1, 2, 3, 4, 5, 2, 3, 4, 5, 1, 2, 3, 4, 5, 1, 2, 3, 4, 5, 3, 4, 5, 5, 1, 3, 5, 1, 2, 3, 1, 2, 3, 4, 5, 5, 5, 3, 1, 5, 1, 2, 3, 4, 5, 2, 3, 4, 5, 3, 4, 1, 2, 3, 4, 5, 3, 4, 3, 5, 5, 3, 5, 1, 2, 3, 4, 5, 3, 4, 2, 3, 4, 5, 1, 2, 2, 3, 4, 2, 4, 1, 2, 3, 4, 5, 1, 2, 3, 4, 5, 1, 2, 3, 4, 5, 5, 5, 3, 3, 4, 2, 3, 4, 5, 1, 2, 3, 4, 5, 1, 2, 3, 4, 1, 2, 3, 5, 2, 3, 4, 2, 3, 4, 5, 1, 3, 5, 1, 2, 3, 4, 5, 1, 2, 3, 4, 5, 3, 1, 2, 3, 5, 3, 1, 3, 5, 1, 2, 3, 4, 5, 1, 1, 2, 3, 5, 1, 2, 3, 5, 5, 1, 2, 3, 4, 5, 1, 2, 3, 4, 5, 2, 3, 5, 1, 1, 1, 3, 5, 1, 3, 5, 1, 2, 3, 5], \"Freq\": [0.08106077281954026, 0.3207187098512245, 0.5533278840290357, 0.042292577123238397, 0.003524381426936533, 0.09934307392498413, 0.6495508679710501, 0.24453679735380712, 0.31047725570338097, 0.6209545114067619, 0.9318591357129581, 0.06656136683663987, 0.15567805932198037, 0.6227122372879215, 0.4110680450074734, 0.17838801953154507, 0.37228804076148536, 0.038780004245988056, 0.8662716446990159, 0.06794287409404046, 0.05095715557053034, 0.2028487249415051, 0.6761624164716836, 0.1202066518171882, 0.07976696766674435, 0.91732012816756, 0.9741520128739289, 0.11379693291341876, 0.28069910118643293, 0.5120861981103845, 0.015172924388455836, 0.07586462194227918, 0.09547269211724323, 0.5114608506280887, 0.3068765103768532, 0.06137530207537064, 0.013638956016749032, 0.04242980065488939, 0.016971920261955757, 0.3394384052391151, 0.025457880392933632, 0.5770452889064956, 0.17359077485976412, 0.8100902826788993, 0.9828329191616173, 0.11618036111684794, 0.6555891805879277, 0.08298597222631997, 0.14937475000737593, 0.008298597222631996, 0.13872324326424745, 0.0163203815604997, 0.19584457872599642, 0.6446550716397382, 0.08404541704941518, 0.8964844485270952, 0.9517883280678037, 0.032264011120942494, 0.9722526172035443, 0.9741576821733929, 0.31242423253481805, 0.7029545232033405, 0.11224261396642787, 0.02806065349160697, 0.841819604748209, 0.9793120937505323, 0.3542515723193227, 0.1807405981221034, 0.2168887177465241, 0.04337774354930482, 0.20242946989675584, 0.3210270140942918, 0.19513406739064795, 0.15107153604437262, 0.012589294670364385, 0.3210270140942918, 0.2979379950405236, 0.049656332506753935, 0.6455323225878011, 0.15601254696920847, 0.11556484960682108, 0.4795941258683075, 0.24268618417432428, 0.011556484960682109, 0.07500202690406163, 0.07500202690406163, 0.7750209446753036, 0.07500202690406163, 0.02709608981099202, 0.9212670535737287, 0.05419217962198404, 0.9220712255888417, 0.04191232843585644, 0.9744577833246202, 0.20773177837517265, 0.07331709825006094, 0.7087319497505891, 0.1725267601825863, 0.8051248808520695, 0.014488654645459152, 0.34289815994253325, 0.2414775774243192, 0.3187504022001013, 0.0869319278727549, 0.16766647206976895, 0.06209869335917369, 0.14903686406201685, 0.6209869335917368, 0.9591397518837915, 0.1832911401466804, 0.7331645605867216, 0.05022907035730908, 0.8538941960742543, 0.05022907035730908, 0.5684622112247795, 0.12870842518296893, 0.2359654461687764, 0.06435421259148447, 0.9441377745427899, 0.9899884793424485, 0.07594245375893502, 0.07594245375893502, 0.8353669913482852, 0.948651652041479, 0.049929034317972576, 0.015013348863898593, 0.030026697727797185, 0.10509344204729015, 0.8407475363783212, 0.134566153463553, 0.1113650925215611, 0.6821111916945617, 0.009280424376796758, 0.0649629706375773, 0.1660598980793287, 0.7116852774828373, 0.14233705549656744, 0.14024206905238687, 0.14024206905238687, 0.6661498279988376, 0.07012103452619343, 0.4937506042054652, 0.020572941841894385, 0.06171882552568315, 0.3497400113122045, 0.07200529644663034, 0.8750412258963163, 0.08627167015879175, 0.01232452430839882, 0.01232452430839882, 0.6159925800329844, 0.13588071618374656, 0.17211557383274564, 0.0634110008857484, 0.9615013545113416, 0.04799472069490535, 0.5359410477597765, 0.26397096382197943, 0.007999120115817559, 0.14398416208471607, 0.11933051327790047, 0.0650893708788548, 0.2440851407957055, 0.010848228479809133, 0.5532596524702658, 0.008995269372571666, 0.08995269372571665, 0.8995269372571666, 0.9569940311736054, 0.013488034277950492, 0.9576504337344849, 0.013488034277950492, 0.9844671379165955, 0.028735500560686137, 0.4741357592513213, 0.3160905061675475, 0.13649362766325915, 0.05028712598120074, 0.9046323873891169, 0.17422042113974426, 0.6533265792740409, 0.1306653158548082, 0.9794722110286874, 0.07806259970891644, 0.15612519941783287, 0.702563397380248, 0.913751086405499, 0.02687503195310291, 0.02687503195310291, 0.013041486873226454, 0.7303232649006814, 0.24778825059130263, 0.018857118229401625, 0.03771423645880325, 0.9239987932406797, 0.02705090532870593, 0.09467816865047077, 0.8521035178542369, 0.02705090532870593, 0.14245818355396941, 0.8547491013238165, 0.03764305042663343, 0.63052109464611, 0.3011444034130674, 0.028232287819975072, 0.885126872610632, 0.07376057271755267, 0.9110037355926945, 0.060733582372846304, 0.15456915237157556, 0.20609220316210078, 0.5925150840910397, 0.025761525395262597, 0.9725476529892216, 0.918778723413614, 0.628803974856218, 0.0515413094144441, 0.2680148089551093, 0.0515413094144441, 0.9517514675357233, 0.17205916261253873, 0.34411832522507746, 0.4779421183681632, 0.1261983013703495, 0.21586551550191363, 0.262359626533095, 0.06642015861597343, 0.32877978514906847, 0.9517083431656466, 0.03254281326019711, 0.9600129911758147, 0.9844669617265108, 0.00644174593019097, 0.33497078836993044, 0.34141253430012136, 0.3156455505793575, 0.9300856341371152, 0.9470150100301977, 0.03456048403642608, 0.8442632528898371, 0.11355587611968569, 0.004937212005203725, 0.04050981267834448, 0.008101962535668895, 0.04861177521401337, 0.8912158789235786, 0.3816612557959094, 0.028482183268351453, 0.028482183268351453, 0.017089309961010872, 0.5411614820986775, 0.07198410553220813, 0.0575872844257665, 0.10077774774509138, 0.7774283397478478, 0.9280434092104949, 0.02993688416808048, 0.02993688416808048, 0.07344524213737742, 0.11541395193016453, 0.7869133086147582, 0.010492177448196775, 0.9046384954430754, 0.01798844058543954, 0.971375791613735, 0.1679037213356386, 0.0839518606678193, 0.6716148853425544, 0.9528564190348694, 0.03527198623452818, 0.07054397246905636, 0.07054397246905636, 0.7054397246905636, 0.07054397246905636, 0.03441336502232653, 0.8947474905804899, 0.03441336502232653, 0.9301097325988839, 0.9038401340746287, 0.0645600095767592, 0.9211690122091761, 0.0736935209767341, 0.0410714810283779, 0.010267870257094474, 0.051339351285472366, 0.8933047123672192, 0.9566329982726361, 0.037515019540103375, 0.02632810585402294, 0.3159372702482753, 0.5792183287885047, 0.05265621170804588, 0.28620853330565177, 0.6869004799335642, 0.031856249339338547, 0.15928124669669272, 0.7964062334834636, 0.9256464688410131, 0.022000709153494398, 0.9240297844467648, 0.05500177288373599, 0.0550689693052545, 0.19824828949891618, 0.0110137938610509, 0.7379241886904102, 0.864720150241564, 0.12810668892467617, 0.9424926839428672, 0.05334864248733211, 0.8697654819600598, 0.054360342622503735, 0.8921305307952994, 0.07757656789524342, 0.9718741368081802, 0.951717503351367, 0.8368679514662425, 0.10460849393328031, 0.052304246966640155, 0.9578186875390577, 0.8561345703469038, 0.05632464278598051, 0.022529857114392204, 0.011264928557196102, 0.04505971422878441, 0.9502093122757881, 0.03276583835433752, 0.9809865985032876, 0.03546487060514114, 0.18239076311215444, 0.42051203717524493, 0.3445158858785139, 0.015199230259346202, 0.023300705861651477, 0.9553289403277105, 0.022032321715268734, 0.15422625200688114, 0.8151959034649432, 0.2228255978880287, 0.7639734784732413, 0.052841414269113464, 0.052841414269113464, 0.2717558448125835, 0.611450650828313, 0.898374108962797, 0.0748645090802331, 0.22187945453977512, 0.21535358822978173, 0.15988372459483796, 0.013051732619986772, 0.38828904544460646, 0.19243232880563885, 0.13745166343259918, 0.6666405676481061, 0.27707697965027955, 0.4958219635847108, 0.2150992342021907, 0.010937249196721562, 0.6849124155670555, 0.1304595077270582, 0.17938182312470502, 0.9747153465437528, 0.02804506207044297, 0.953532110395061, 0.9159162950935622, 0.2636882567326924, 0.03013580076945056, 0.14314505365489016, 0.2034166551937913, 0.35409565904104406, 0.29806527578963093, 0.4967754596493849, 0.19871018385975397, 0.9730614541741501, 0.976846210094796, 0.24174573038717406, 0.3056030931309559, 0.3056030931309559, 0.013683720587953248, 0.13227596568354807, 0.7836299372662822, 0.13931198884733903, 0.05224199581775214, 0.9256513114741087, 0.9410965765066305, 0.026888473614475154, 0.9578246004474829, 0.37405980330450667, 0.06801087332809212, 0.32116245738265725, 0.02267029110936404, 0.21158938368739771, 0.9741549473904446, 0.28914705556109815, 0.012946883084825292, 0.4790346741385358, 0.017262510779767055, 0.20715012935720467, 0.9860063417652584, 0.07951482530703295, 0.8746630783773625, 0.1372853150693084, 0.5834625890445608, 0.20592797260396264, 0.0686426575346542, 0.008580332191831776, 0.9469956892201601, 0.8190694719147271, 0.029784344433262805, 0.13402954994968264, 0.8991178365429485, 0.10577856900505277, 0.012609753805565678, 0.7313657207228093, 0.20175606088905085, 0.037829261416697034, 0.007414033808480261, 0.5338104342105788, 0.19276487902048678, 0.170522777595046, 0.09638243951024339, 0.029005032294647654, 0.11602012917859061, 0.841145936544782, 0.048025701676452606, 0.9365011826908258, 0.9185247370034245, 0.04142761769272888, 0.7456971184691198, 0.11599732953964086, 0.049713141231274655, 0.049713141231274655, 0.14537888982903388, 0.03028726871438206, 0.5330559293731243, 0.2786428721723149, 0.018172361228629235, 0.7029720983022667, 0.015621602184494817, 0.21870243058292743, 0.04686480655348445, 0.9434523369838725, 0.04101966682538576, 0.9768431741031637, 0.007590279912073775, 0.9943266684816645, 0.9838088129603835, 0.055844930621414345, 0.10052087511854582, 0.02233797224856574, 0.8153359870726494, 0.11069865076087954, 0.0474422788975198, 0.18449775126813256, 0.03162818593167987, 0.6272923543116506, 0.9187716782342578, 0.9855314101504207, 0.963941171142035, 0.04211997866399724, 0.4001397973079738, 0.5264997332999655, 0.023311842609143693, 0.9557855469748915, 0.740845232747738, 0.01683739165335768, 0.1683739165335768, 0.06734956661343072, 0.3235890113377449, 0.006222865602648941, 0.23646889290065976, 0.018668596807946823, 0.4107091297748301, 0.9790896890107266, 0.08232777219122285, 0.07409499497210058, 0.19758665325893485, 0.024698331657366856, 0.6174582914341714, 0.8819263692501331, 0.10755199625001624, 0.04955522463670322, 0.20441530162640079, 0.22919291394475239, 0.012388806159175805, 0.507941052526208, 0.9730763360115812, 0.951709705007335, 0.9858883092379238, 0.15658009399017678, 0.05924652205033716, 0.18197146058317842, 0.00846378886433388, 0.5924652205033716, 0.35096891985746387, 0.006051188273404549, 0.04235831791383184, 0.5990676390670504, 0.1969997329183014, 0.1641664440985845, 0.6238324875746211, 0.03911460556009657, 0.32856268670481115, 0.3207397655927918, 0.30509392336875324, 0.9046428264865385, 0.14717370237100852, 0.14717370237100852, 0.13168173370037603, 0.023237953005948712, 0.5499648878074529, 0.01178096411034073, 0.04712385644136292, 0.9424771288272583, 0.016719173731405, 0.050157521194214995, 0.9195545552272749, 0.9831898306255146, 0.9338892717019868, 0.049152066931683516, 0.08196570731822693, 0.08909316012850753, 0.3278628292729077, 0.49892169671964215, 0.03510906224012342, 0.784102390029423, 0.05851510373353903, 0.11703020746707805, 0.24165871186106402, 0.6041467796526601, 0.06693917081082616, 0.9371483913515662, 0.009732843466913998, 0.7494289469523779, 0.22385539973902197, 0.019465686933827997, 0.0203931161168246, 0.05098279029206151, 0.7851349704977472, 0.030589674175236902, 0.11216213864253531, 0.07045682876017786, 0.3029643636687648, 0.6059287273375296, 0.021137048628053358, 0.016198968892362393, 0.2591835022777983, 0.6965556623715828, 0.016198968892362393, 0.9725472889512968, 0.041468398866528186, 0.9537731739301484, 0.023190048030782052, 0.9507919692620641, 0.056562677261490744, 0.08998607746146255, 0.7713092353839647, 0.010284123138452863, 0.07455989275378325, 0.19644035035308857, 0.6449791503259741, 0.160426286121689, 0.9854327180416829, 0.12050210568717738, 0.4171226735325371, 0.42175736990512086, 0.03244287460808622, 0.009269392745167492, 0.1751895576006491, 0.8133800888601567, 0.19326896056544743, 0.299900111222246, 0.05331557532839929, 0.453182390291394, 0.9439403116921994, 0.986820983977162, 0.05792764243120739, 0.2896382121560369, 0.5985856384558097, 0.05792764243120739, 0.18259469515005292, 0.06351119831306189, 0.23022809388484933, 0.5239673860827606, 0.8822560731592105, 0.025948708034094426, 0.07784612410228328, 0.9791220667782529, 0.9741526684057141, 0.963472573933924, 0.989074385399901, 0.9528265117236389, 0.05505003614258293, 0.8074005300912163, 0.1376250903564573, 0.01130440250060021, 0.13565283000720252, 0.4936255758595425, 0.026376939168067156, 0.3278276725174061, 0.10970901136167116, 0.6682276146574516, 0.14960319731136976, 0.0598412789245479, 0.0199470929748493, 0.7625525700149546, 0.14919506804640417, 0.08288614891466897, 0.9352043405511177, 0.038171605736780315, 0.019085802868390157, 0.9179392097621812, 0.9791471645133364, 0.9256748213294923, 0.3772830856334119, 0.11690461808359243, 0.148787695742754, 0.0956492329774847, 0.26037846754981947, 0.8124890662796311, 0.15089082659478864, 0.034820959983412766, 0.06159427246005775, 0.7760878329967277, 0.08623198144408085, 0.0246377089840231, 0.0492754179680462, 0.9723968908369179, 0.03889587563347672, 0.6813047703714905, 0.03028021201651069, 0.15140106008255344, 0.015140106008255345, 0.10598074205778742, 0.9860618477954787, 0.8442638082787403, 0.05116750353204486, 0.02558375176602243, 0.0767512552980673, 0.02135750017173801, 0.9610875077282105, 0.02156171772357217, 0.1940554595121495, 0.4527960721950155, 0.3234257658535825, 0.04775774125325328, 0.9312759544384389, 0.02387887062662664, 0.8413699518855194, 0.15297635488827627, 0.3239285314125427, 0.6478570628250854, 0.98600756154509, 0.016778246177388143, 0.10066947706432886, 0.8624018535177506, 0.013422596941910515, 0.010066947706432886, 0.9470315267248167, 0.023545766014924672, 0.7063729804477402, 0.08241018105223635, 0.18836612811939737, 0.021353576483876598, 0.589358710954994, 0.38863509200655405, 0.01841990248289806, 0.884155319179107, 0.09209951241449031, 0.07628658406242171, 0.2070635853122875, 0.6974773399992842, 0.010898083437488815, 0.02473756380835397, 0.3413783805552848, 0.5640164548304705, 0.06926517866339112, 0.9832503707506143, 0.8841658790425623, 0.11052073488032028, 0.049446136763422216, 0.9394765985050221, 0.25970677133690656, 0.675237605475957, 0.961267917644498, 0.04272301856197769, 0.9464887911259523, 0.9526529003928706, 0.02721865429693916, 0.0113427526057087, 0.2949115677484262, 0.37431083598838705, 0.2949115677484262, 0.0226855052114174, 0.9750809084793693, 0.9768403988953387, 0.07644785055488135, 0.7166985989520126, 0.20067560770656354, 0.009555981319360168, 0.9116447680965704, 0.07597039734138086, 0.043126404871509066, 0.043126404871509066, 0.23719522679329985, 0.5390800608938633, 0.1293792146145272, 0.8971779567590098, 0.04600912598764153, 0.04600912598764153, 0.011502281496910382, 0.04944612830035648, 0.9394764377067731, 0.36400156830702646, 0.04254563785406803, 0.21272818927034012, 0.07563668951834315, 0.3025467580733726, 0.9118002475876287, 0.045590012379381435, 0.5259217089368751, 0.11027390671257058, 0.22054781342514115, 0.04241304104329638, 0.11027390671257058, 0.948618429918329, 0.024963642892587606, 0.04457542837513954, 0.9583717100655, 0.9741590756959427, 0.06429667747593422, 0.002521438332389577, 0.4815947214864093, 0.010085753329558309, 0.44251242733437085, 0.026587292510850374, 0.026587292510850374, 0.930555237879763, 0.0867686380769123, 0.150398972666648, 0.6073804665383862, 0.15618354853844216, 0.8387046340123856, 0.13479181618056196, 0.029953736929013774, 0.45007892654988996, 0.16366506419996, 0.261864102719936, 0.016366506419996, 0.11456554493997198, 0.20609997705509392, 0.5358599403432441, 0.2225879752195014, 0.032975996328815024, 0.9591553245263703, 0.019340220358765054, 0.9670110179382527, 0.019539440262370558, 0.39078880524741116, 0.3614796448538553, 0.18562468249252032, 0.039078880524741115, 0.6389665077890996, 0.2513966588022687, 0.08379888626742289, 0.020949721566855723, 0.43425179239339473, 0.26174080637410096, 0.1784596407096143, 0.02974327345160238, 0.09517847504512762, 0.00807540157600477, 0.29071445673617174, 0.1292064252160763, 0.5006748977122958, 0.06460321260803815, 0.07162617253160439, 0.9311402429108571, 0.9858899031337272, 0.9768477215452328, 0.8252089287645269, 0.16504178575290537, 0.9582901527795719, 0.15040708577895112, 0.8272389717842312, 0.03760177144473778, 0.1735452677631431, 0.23139369035085747, 0.1398003545869764, 0.24585579599778606, 0.21211088282161936, 0.968806916503587, 0.9634718147843109, 0.9877399224950689, 0.9741594027809158, 0.9730856837573963, 0.020258277817634625, 0.5449476732943714, 0.407191384134456, 0.024309933381161553, 0.0020258277817634626, 0.460238538052786, 0.38253592773218575, 0.12850816322253114, 0.02988561935407701, 0.29859720022143565, 0.7025816475798486, 0.22456631313932515, 0.03962934937752797, 0.2641956625168531, 0.422713060026965, 0.05283913250337063, 0.24792201403646258, 0.6941816393020952, 0.10361062324280054, 0.8703292352395245, 0.9155906582008508, 0.03703761507923384, 0.925940376980846, 0.06942763081683238, 0.6109631511881249, 0.25688223402227983, 0.04165657849009943, 0.020828289245049716, 0.2051565087731414, 0.7522405321681851, 0.37449593869143033, 0.3517992151343739, 0.23831559734909202, 0.03404508533558458, 0.9416918597765399, 0.03553554187836, 0.8635719018658138, 0.10159669433715457, 0.01693278238952576, 0.963315638804335, 0.9401648607986142, 0.146758314262745, 0.04193094693221285, 0.12579284079663855, 0.010482736733053213, 0.6708951509154056, 0.15812065968251182, 0.052706886560837274, 0.22588665668930258, 0.03764777611488376, 0.5270688656083727, 0.03604944808032018, 0.050469227312448246, 0.05767911692851228, 0.021629668848192108, 0.8291373058473641, 0.9517258864442056, 0.9688002292594614, 0.988757365447993, 0.3781991752776041, 0.5943129897219493, 0.33209974368551315, 0.47490263347028383, 0.16937086927961173, 0.01992598462113079, 0.22292960908506604, 0.5162580420917319, 0.14079764784319962, 0.06648777814817759, 0.050843595054488745, 0.02296922553121273, 0.8957997957172964, 0.04593845106242546, 0.02296922553121273, 0.9491411756060586, 0.06091897156583751, 0.12183794313167502, 0.8122529542111668, 0.01771002916066133, 0.9386315455150505, 0.01771002916066133, 0.10888282802069535, 0.7621797961448674, 0.006805176751293459, 0.12249318152328227, 0.017283497863414342, 0.05185049359024302, 0.9333088846243743, 0.24022024630858224, 0.43732403815152154, 0.04311645446564297, 0.04927594796073482, 0.22790125931839855, 0.2710430240146064, 0.10255681989741863, 0.21976461406589706, 0.04029017924541446, 0.3662743567764951, 0.9666110806438104, 0.24360344959163407, 0.10591454330071047, 0.5401641708336233, 0.11121027046574598, 0.9570291314565134, 0.13240572769611617, 0.13240572769611617, 0.7355873760895342, 0.09366222854621181, 0.08429600569159063, 0.7680302740789369, 0.028098668563863543, 0.028098668563863543, 0.9741593350849023, 0.03639508390049874, 0.01819754195024937, 0.03639508390049874, 0.8916795555622191, 0.5725701122719182, 0.02290280449087673, 0.14886822919069875, 0.25193084939964405, 0.9688104492074913, 0.2503359005466261, 0.34661893921840536, 0.23878193590601257, 0.011553964640613512, 0.15405286187484682, 0.1172694241414738, 0.2501747715018108, 0.4612597349564636, 0.007817961609431587, 0.16026821299334754, 0.024098589710793972, 0.09639435884317589, 0.8675492295885829, 0.9713210155053541, 0.9740997821452443, 0.04939817702106699, 0.04939817702106699, 0.8891671863792058, 0.06418903495633789, 0.8665519719105614, 0.06418903495633789, 0.05912867260196978, 0.07391084075246222, 0.21434143818214046, 0.6504153986216676], \"Term\": [\"000\", \"000\", \"000\", \"000\", \"000\", \"1960\", \"1960\", \"1960\", \"63\", \"63\", \"academic\", \"academic\", \"accommodate\", \"accommodate\", \"act\", \"act\", \"act\", \"act\", \"activities\", \"activities\", \"activities\", \"administration\", \"administration\", \"administration\", \"alexander\", \"alexander\", \"amateur\", \"american\", \"american\", \"american\", \"american\", \"american\", \"area\", \"area\", \"area\", \"area\", \"area\", \"asked\", \"asked\", \"asked\", \"asked\", \"asked\", \"assessment\", \"assessment\", \"aug\", \"available\", \"available\", \"available\", \"available\", \"available\", \"away\", \"away\", \"away\", \"away\", \"baby\", \"baby\", \"ball\", \"ball\", \"baseball\", \"bat\", \"battery\", \"battery\", \"bed\", \"bed\", \"bed\", \"berlin\", \"best\", \"best\", \"best\", \"best\", \"best\", \"better\", \"better\", \"better\", \"better\", \"better\", \"blocks\", \"blocks\", \"blocks\", \"board\", \"board\", \"board\", \"board\", \"board\", \"boat\", \"boat\", \"boat\", \"boat\", \"boats\", \"boats\", \"boats\", \"bob\", \"bob\", \"bombs\", \"boy\", \"boy\", \"boy\", \"bridge\", \"bridge\", \"business\", \"business\", \"business\", \"business\", \"business\", \"came\", \"came\", \"came\", \"came\", \"castro\", \"catastrophe\", \"catastrophe\", \"cattle\", \"cattle\", \"cattle\", \"center\", \"center\", \"center\", \"center\", \"charlie\", \"charter\", \"chemical\", \"chemical\", \"chemical\", \"chest\", \"chest\", \"child\", \"child\", \"child\", \"child\", \"city\", \"city\", \"city\", \"city\", \"city\", \"claim\", \"claim\", \"claim\", \"claims\", \"claims\", \"claims\", \"claims\", \"class\", \"class\", \"class\", \"class\", \"class\", \"clay\", \"clay\", \"clay\", \"clay\", \"club\", \"club\", \"club\", \"club\", \"coach\", \"college\", \"college\", \"college\", \"college\", \"college\", \"come\", \"come\", \"come\", \"come\", \"come\", \"committee\", \"committee\", \"committee\", \"communism\", \"communist\", \"communist\", \"communist\", \"communists\", \"company\", \"company\", \"company\", \"company\", \"company\", \"comprehensive\", \"concrete\", \"concrete\", \"concrete\", \"congo\", \"conversion\", \"conversion\", \"conversion\", \"cooling\", \"cooling\", \"cooling\", \"corps\", \"corps\", \"corps\", \"couldn\", \"couldn\", \"couldn\", \"council\", \"council\", \"council\", \"council\", \"county\", \"county\", \"court\", \"court\", \"court\", \"court\", \"coverage\", \"coverage\", \"creative\", \"creative\", \"credit\", \"credit\", \"credit\", \"credit\", \"cuba\", \"curriculum\", \"cut\", \"cut\", \"cut\", \"cut\", \"dad\", \"daily\", \"daily\", \"daily\", \"day\", \"day\", \"day\", \"day\", \"day\", \"dear\", \"democratic\", \"democratic\", \"democrats\", \"department\", \"department\", \"department\", \"department\", \"depreciation\", \"designers\", \"development\", \"development\", \"development\", \"development\", \"didn\", \"didn\", \"didn\", \"didn\", \"don\", \"don\", \"don\", \"don\", \"don\", \"door\", \"door\", \"door\", \"door\", \"drill\", \"drill\", \"drill\", \"east\", \"east\", \"east\", \"east\", \"educated\", \"election\", \"election\", \"electricity\", \"electricity\", \"electricity\", \"employee\", \"engine\", \"engine\", \"engine\", \"engine\", \"engine\", \"engineers\", \"engineers\", \"engineers\", \"evaluation\", \"exceed\", \"exceed\", \"expenditures\", \"expenditures\", \"eyes\", \"eyes\", \"eyes\", \"eyes\", \"faculty\", \"faculty\", \"farm\", \"farm\", \"farm\", \"farm\", \"farmers\", \"farmers\", \"father\", \"father\", \"father\", \"favorite\", \"feed\", \"feed\", \"feed\", \"felt\", \"felt\", \"felt\", \"felt\", \"fig\", \"fig\", \"fiscal\", \"fiscal\", \"fishing\", \"fishing\", \"football\", \"football\", \"forests\", \"fountain\", \"frame\", \"frame\", \"frame\", \"gallery\", \"game\", \"game\", \"game\", \"game\", \"game\", \"games\", \"games\", \"gen\", \"general\", \"general\", \"general\", \"general\", \"general\", \"georgia\", \"georgia\", \"girl\", \"girl\", \"girl\", \"god\", \"god\", \"going\", \"going\", \"going\", \"going\", \"golf\", \"golf\", \"good\", \"good\", \"good\", \"good\", \"good\", \"got\", \"got\", \"got\", \"government\", \"government\", \"government\", \"government\", \"green\", \"green\", \"green\", \"hadn\", \"hair\", \"hair\", \"handsome\", \"head\", \"head\", \"head\", \"head\", \"head\", \"hearing\", \"hearing\", \"hearing\", \"heel\", \"hell\", \"high\", \"high\", \"high\", \"high\", \"high\", \"hit\", \"hit\", \"hit\", \"hits\", \"hole\", \"hole\", \"holes\", \"home\", \"home\", \"home\", \"home\", \"home\", \"homer\", \"house\", \"house\", \"house\", \"house\", \"house\", \"hughes\", \"import\", \"import\", \"important\", \"important\", \"important\", \"important\", \"important\", \"imports\", \"inch\", \"inch\", \"inch\", \"india\", \"india\", \"industrial\", \"industrial\", \"industrial\", \"industrial\", \"interest\", \"interest\", \"interest\", \"interest\", \"interest\", \"interference\", \"interference\", \"interference\", \"interior\", \"interior\", \"inventory\", \"island\", \"island\", \"island\", \"island\", \"island\", \"john\", \"john\", \"john\", \"john\", \"john\", \"junior\", \"junior\", \"junior\", \"junior\", \"jury\", \"jury\", \"katanga\", \"kennedy\", \"kennedy\", \"khrushchev\", \"knew\", \"knew\", \"knew\", \"knew\", \"know\", \"know\", \"know\", \"know\", \"know\", \"laboratories\", \"laos\", \"laughed\", \"laws\", \"laws\", \"laws\", \"leader\", \"leader\", \"league\", \"league\", \"league\", \"league\", \"left\", \"left\", \"left\", \"left\", \"left\", \"leg\", \"let\", \"let\", \"let\", \"let\", \"let\", \"library\", \"library\", \"life\", \"life\", \"life\", \"life\", \"life\", \"liked\", \"lips\", \"listening\", \"little\", \"little\", \"little\", \"little\", \"little\", \"ll\", \"ll\", \"ll\", \"ll\", \"loans\", \"loans\", \"loans\", \"local\", \"local\", \"local\", \"local\", \"locations\", \"look\", \"look\", \"look\", \"look\", \"look\", \"looked\", \"looked\", \"looked\", \"love\", \"love\", \"love\", \"loved\", \"maintain\", \"maintain\", \"man\", \"man\", \"man\", \"man\", \"management\", \"management\", \"management\", \"management\", \"manufactured\", \"manufactured\", \"mayor\", \"mayor\", \"medical\", \"medical\", \"medical\", \"medical\", \"meeting\", \"meeting\", \"meeting\", \"meeting\", \"meeting\", \"members\", \"members\", \"members\", \"members\", \"military\", \"military\", \"military\", \"military\", \"moscow\", \"mother\", \"mother\", \"motors\", \"motors\", \"mr\", \"mr\", \"mr\", \"mr\", \"mr\", \"mrs\", \"mrs\", \"mrs\", \"musical\", \"national\", \"national\", \"national\", \"national\", \"national\", \"nations\", \"nations\", \"night\", \"night\", \"night\", \"night\", \"nodded\", \"nuclear\", \"officer\", \"officer\", \"officer\", \"officer\", \"old\", \"old\", \"old\", \"old\", \"organizations\", \"organizations\", \"organizations\", \"paint\", \"paintings\", \"pale\", \"panels\", \"participation\", \"party\", \"party\", \"party\", \"people\", \"people\", \"people\", \"people\", \"people\", \"period\", \"period\", \"period\", \"period\", \"period\", \"piece\", \"piece\", \"piece\", \"pieces\", \"pieces\", \"pieces\", \"pitcher\", \"pitching\", \"pittsburgh\", \"place\", \"place\", \"place\", \"place\", \"place\", \"planning\", \"planning\", \"planning\", \"plant\", \"plant\", \"plant\", \"plant\", \"plant\", \"plastic\", \"plastic\", \"play\", \"play\", \"play\", \"play\", \"play\", \"player\", \"playing\", \"playing\", \"playing\", \"playing\", \"police\", \"police\", \"policy\", \"policy\", \"policy\", \"policy\", \"political\", \"political\", \"political\", \"pool\", \"pool\", \"pound\", \"pound\", \"premier\", \"president\", \"president\", \"president\", \"president\", \"president\", \"producers\", \"production\", \"production\", \"production\", \"production\", \"program\", \"program\", \"program\", \"projects\", \"projects\", \"projects\", \"property\", \"property\", \"property\", \"property\", \"public\", \"public\", \"public\", \"public\", \"publications\", \"published\", \"published\", \"puerto\", \"puerto\", \"ratio\", \"ratio\", \"rayburn\", \"rayburn\", \"recommendation\", \"recreation\", \"recreation\", \"report\", \"report\", \"report\", \"report\", \"report\", \"republican\", \"republicans\", \"research\", \"research\", \"research\", \"research\", \"resources\", \"resources\", \"respect\", \"respect\", \"respect\", \"respect\", \"respect\", \"rhode\", \"rhode\", \"rhode\", \"rhode\", \"rico\", \"rico\", \"right\", \"right\", \"right\", \"right\", \"right\", \"roy\", \"roy\", \"run\", \"run\", \"run\", \"run\", \"run\", \"runs\", \"runs\", \"russia\", \"russia\", \"ruth\", \"said\", \"said\", \"said\", \"said\", \"said\", \"sat\", \"sat\", \"sat\", \"school\", \"school\", \"school\", \"school\", \"season\", \"season\", \"season\", \"second\", \"second\", \"second\", \"second\", \"second\", \"secretary\", \"secretary\", \"secretary\", \"secretary\", \"sen\", \"senate\", \"senate\", \"service\", \"service\", \"service\", \"service\", \"service\", \"services\", \"services\", \"services\", \"services\", \"set\", \"set\", \"set\", \"set\", \"set\", \"shall\", \"shall\", \"shall\", \"shall\", \"shall\", \"shelter\", \"shelter\", \"shoes\", \"sick\", \"signs\", \"signs\", \"silent\", \"site\", \"site\", \"site\", \"small\", \"small\", \"small\", \"small\", \"small\", \"smile\", \"smiled\", \"soviet\", \"stadium\", \"stared\", \"state\", \"state\", \"state\", \"state\", \"state\", \"states\", \"states\", \"states\", \"states\", \"stations\", \"stations\", \"stock\", \"stock\", \"stock\", \"stock\", \"stock\", \"stockholders\", \"stockholders\", \"stood\", \"stood\", \"strange\", \"susan\", \"susan\", \"system\", \"system\", \"system\", \"system\", \"system\", \"tangible\", \"tangible\", \"tax\", \"tax\", \"tax\", \"tax\", \"team\", \"team\", \"technical\", \"technical\", \"technical\", \"textile\", \"thereof\", \"thing\", \"thing\", \"thing\", \"thing\", \"thing\", \"think\", \"think\", \"think\", \"think\", \"think\", \"thought\", \"thought\", \"thought\", \"thought\", \"thought\", \"till\", \"tongue\", \"troops\", \"trust\", \"trust\", \"united\", \"united\", \"united\", \"united\", \"use\", \"use\", \"use\", \"use\", \"use\", \"vehicles\", \"vehicles\", \"vehicles\", \"vehicles\", \"vernon\", \"voice\", \"voice\", \"voice\", \"vote\", \"vote\", \"vote\", \"war\", \"war\", \"war\", \"war\", \"wasn\", \"wasn\", \"wasn\", \"water\", \"water\", \"water\", \"water\", \"water\", \"way\", \"way\", \"way\", \"way\", \"way\", \"weapons\", \"week\", \"week\", \"week\", \"week\", \"welfare\", \"went\", \"went\", \"went\", \"west\", \"west\", \"west\", \"west\", \"west\", \"willie\", \"woman\", \"woman\", \"woman\", \"woman\", \"won\", \"won\", \"won\", \"won\", \"wondered\", \"work\", \"work\", \"work\", \"work\", \"work\", \"world\", \"world\", \"world\", \"world\", \"world\", \"wouldn\", \"wouldn\", \"wouldn\", \"yankees\", \"yards\", \"yes\", \"yes\", \"yes\", \"yesterday\", \"yesterday\", \"yesterday\", \"young\", \"young\", \"young\", \"young\"]}, \"R\": 30, \"lambda.step\": 0.01, \"plot.opts\": {\"xlab\": \"PC1\", \"ylab\": \"PC2\"}, \"topic.order\": [1, 2, 3, 4, 5]};\n",
       "\n",
       "function LDAvis_load_lib(url, callback){\n",
       "  var s = document.createElement('script');\n",
       "  s.src = url;\n",
       "  s.async = true;\n",
       "  s.onreadystatechange = s.onload = callback;\n",
       "  s.onerror = function(){console.warn(\"failed to load library \" + url);};\n",
       "  document.getElementsByTagName(\"head\")[0].appendChild(s);\n",
       "}\n",
       "\n",
       "if(typeof(LDAvis) !== \"undefined\"){\n",
       "   // already loaded: just create the visualization\n",
       "   !function(LDAvis){\n",
       "       new LDAvis(\"#\" + \"ldavis_el803222043444359847312054824\", ldavis_el803222043444359847312054824_data);\n",
       "   }(LDAvis);\n",
       "}else if(typeof define === \"function\" && define.amd){\n",
       "   // require.js is available: use it to load d3/LDAvis\n",
       "   require.config({paths: {d3: \"https://d3js.org/d3.v5\"}});\n",
       "   require([\"d3\"], function(d3){\n",
       "      window.d3 = d3;\n",
       "      LDAvis_load_lib(\"https://cdn.jsdelivr.net/gh/bmabey/pyLDAvis@3.3.1/pyLDAvis/js/ldavis.v3.0.0.js\", function(){\n",
       "        new LDAvis(\"#\" + \"ldavis_el803222043444359847312054824\", ldavis_el803222043444359847312054824_data);\n",
       "      });\n",
       "    });\n",
       "}else{\n",
       "    // require.js not available: dynamically load d3 & LDAvis\n",
       "    LDAvis_load_lib(\"https://d3js.org/d3.v5.js\", function(){\n",
       "         LDAvis_load_lib(\"https://cdn.jsdelivr.net/gh/bmabey/pyLDAvis@3.3.1/pyLDAvis/js/ldavis.v3.0.0.js\", function(){\n",
       "                 new LDAvis(\"#\" + \"ldavis_el803222043444359847312054824\", ldavis_el803222043444359847312054824_data);\n",
       "            })\n",
       "         });\n",
       "}\n",
       "</script>"
      ],
      "text/plain": [
       "<IPython.core.display.HTML object>"
      ]
     },
     "execution_count": 27,
     "metadata": {},
     "output_type": "execute_result"
    }
   ],
   "source": [
    "pyLDAvis.display(lda_display)"
   ]
  },
  {
   "cell_type": "markdown",
   "metadata": {},
   "source": [
    "Q: What conclusions do you draw from the visualization above? Please address the principal component scatterplot and the salient terms graph.\n",
    "\n",
    "A: I'll try to best explain these graphs through my interpretation. It looks like topics 2-4 seem to be reasonably connected intertopic distance map. 1 and 5 seem hardly related, while 1 also seems to be the opposite of topics 2-4. Term frequencies such as united, department, states, and business seem to be prevalent within topics 2-4. Said is largely associated with topics 3 and 5. When you highlight each topic you can see the distribution of each term within that topic.\n"
   ]
  },
  {
   "cell_type": "code",
   "execution_count": null,
   "metadata": {},
   "outputs": [],
   "source": []
  }
 ],
 "metadata": {
  "kernelspec": {
   "display_name": "Python 3",
   "language": "python",
   "name": "python3"
  },
  "language_info": {
   "codemirror_mode": {
    "name": "ipython",
    "version": 3
   },
   "file_extension": ".py",
   "mimetype": "text/x-python",
   "name": "python",
   "nbconvert_exporter": "python",
   "pygments_lexer": "ipython3",
   "version": "3.8.3"
  }
 },
 "nbformat": 4,
 "nbformat_minor": 5
}
